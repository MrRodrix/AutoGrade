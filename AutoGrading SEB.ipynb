{
 "cells": [
  {
   "cell_type": "markdown",
   "metadata": {
    "pycharm": {
     "name": "#%% md\n"
    }
   },
   "source": [
    "# Capstone Project - Short Answer Grading\n",
    "\n",
    "## SciEntsBank Data and Modeling"
   ]
  },
  {
   "cell_type": "code",
   "execution_count": 2,
   "outputs": [],
   "source": [
    "## Coisas Feitas\n",
    "# analise exploratoria dos dados\n",
    "# busca por artigos semelhantes\n",
    "# trabalhos relacionados\n",
    "# Fiz uma serie de modelos binario (classificar se a resposta é correta ou não), testando no dataframe seb e no dataframe sag, com resultados satisfatorios\n",
    "# foi realizado uma comparacao de vetorizadores e modelos, mudando tambem quem seria o gerador do vetorizador (que foi variado entre reference answer e answer) onde o melhor resultado foi obtido com o vetorizador com answer como gerador\n",
    "# inicialmente foi percebido que o modelo xgboost, associado com o vetorizador de hash se saiu melhor em termos de f1 score\n",
    "\n",
    "## Coisas a fazer\n",
    "# complementar trabalhos feitos aqui no artigo\n",
    "# Fazer um modelo regressor ou multiclassificador (para classificar a nota em graus) para o dataframe sag\n",
    "# Realizar uma comparacao mais profunda entre os modelos e vetorizadores para o dataframe seb e sag\n",
    "# estudar formas de vetorizacao como embeddings, word2vec, glove, etc\n",
    "# estudar formas de melhorar o modelo, como por exemplo, aumentar o numero de dados\n",
    "# classificacao atraves do bert\n",
    "# classificacao atraves de um modelo de deep learning\n",
    "# regressao para dar a nota em graus\n"
   ],
   "metadata": {
    "collapsed": false,
    "pycharm": {
     "name": "#%%\n"
    }
   }
  },
  {
   "cell_type": "code",
   "execution_count": 3,
   "metadata": {
    "pycharm": {
     "name": "#%%\n"
    }
   },
   "outputs": [],
   "source": [
    "import pandas as pd\n",
    "import os\n",
    "import numpy as np\n",
    "# should be the name of directory you created to save your features data\n",
    "data_dir = 'data/seb'"
   ]
  },
  {
   "cell_type": "markdown",
   "metadata": {
    "pycharm": {
     "name": "#%% md\n"
    }
   },
   "source": [
    "## Analyzing Source Data"
   ]
  },
  {
   "cell_type": "code",
   "execution_count": 4,
   "metadata": {
    "pycharm": {
     "name": "#%%\n"
    }
   },
   "outputs": [],
   "source": [
    "raw_data = pd.read_csv(os.path.join(data_dir, \"answers.csv\"))"
   ]
  },
  {
   "cell_type": "code",
   "execution_count": 5,
   "outputs": [
    {
     "data": {
      "text/plain": "                                              answer  correct  \\\n0  You could tell if it has the hardest if most o...        0   \n1  If just the penny could scratch and the nickel...        1   \n2      Whichever one was damaged most was less hard.        1   \n3                        Rub them against a crystal.        0   \n4                          Which had less scratches.        1   \n\n                                            question  \\\n0  Carrie wanted to find out which was harder, a ...   \n1  Carrie wanted to find out which was harder, a ...   \n2  Carrie wanted to find out which was harder, a ...   \n3  Carrie wanted to find out which was harder, a ...   \n4  Carrie wanted to find out which was harder, a ...   \n\n                          reference_answer  id  \n0  The harder coin will scratch the other.   0  \n1  The harder coin will scratch the other.   0  \n2  The harder coin will scratch the other.   0  \n3  The harder coin will scratch the other.   0  \n4  The harder coin will scratch the other.   0  ",
      "text/html": "<div>\n<style scoped>\n    .dataframe tbody tr th:only-of-type {\n        vertical-align: middle;\n    }\n\n    .dataframe tbody tr th {\n        vertical-align: top;\n    }\n\n    .dataframe thead th {\n        text-align: right;\n    }\n</style>\n<table border=\"1\" class=\"dataframe\">\n  <thead>\n    <tr style=\"text-align: right;\">\n      <th></th>\n      <th>answer</th>\n      <th>correct</th>\n      <th>question</th>\n      <th>reference_answer</th>\n      <th>id</th>\n    </tr>\n  </thead>\n  <tbody>\n    <tr>\n      <th>0</th>\n      <td>You could tell if it has the hardest if most o...</td>\n      <td>0</td>\n      <td>Carrie wanted to find out which was harder, a ...</td>\n      <td>The harder coin will scratch the other.</td>\n      <td>0</td>\n    </tr>\n    <tr>\n      <th>1</th>\n      <td>If just the penny could scratch and the nickel...</td>\n      <td>1</td>\n      <td>Carrie wanted to find out which was harder, a ...</td>\n      <td>The harder coin will scratch the other.</td>\n      <td>0</td>\n    </tr>\n    <tr>\n      <th>2</th>\n      <td>Whichever one was damaged most was less hard.</td>\n      <td>1</td>\n      <td>Carrie wanted to find out which was harder, a ...</td>\n      <td>The harder coin will scratch the other.</td>\n      <td>0</td>\n    </tr>\n    <tr>\n      <th>3</th>\n      <td>Rub them against a crystal.</td>\n      <td>0</td>\n      <td>Carrie wanted to find out which was harder, a ...</td>\n      <td>The harder coin will scratch the other.</td>\n      <td>0</td>\n    </tr>\n    <tr>\n      <th>4</th>\n      <td>Which had less scratches.</td>\n      <td>1</td>\n      <td>Carrie wanted to find out which was harder, a ...</td>\n      <td>The harder coin will scratch the other.</td>\n      <td>0</td>\n    </tr>\n  </tbody>\n</table>\n</div>"
     },
     "execution_count": 5,
     "metadata": {},
     "output_type": "execute_result"
    }
   ],
   "source": [
    "raw_data.head()"
   ],
   "metadata": {
    "collapsed": false,
    "pycharm": {
     "name": "#%%\n"
    }
   }
  },
  {
   "cell_type": "code",
   "execution_count": 6,
   "outputs": [
    {
     "data": {
      "text/plain": "          correct        id\ncorrect  1.000000 -0.048971\nid      -0.048971  1.000000",
      "text/html": "<div>\n<style scoped>\n    .dataframe tbody tr th:only-of-type {\n        vertical-align: middle;\n    }\n\n    .dataframe tbody tr th {\n        vertical-align: top;\n    }\n\n    .dataframe thead th {\n        text-align: right;\n    }\n</style>\n<table border=\"1\" class=\"dataframe\">\n  <thead>\n    <tr style=\"text-align: right;\">\n      <th></th>\n      <th>correct</th>\n      <th>id</th>\n    </tr>\n  </thead>\n  <tbody>\n    <tr>\n      <th>correct</th>\n      <td>1.000000</td>\n      <td>-0.048971</td>\n    </tr>\n    <tr>\n      <th>id</th>\n      <td>-0.048971</td>\n      <td>1.000000</td>\n    </tr>\n  </tbody>\n</table>\n</div>"
     },
     "execution_count": 6,
     "metadata": {},
     "output_type": "execute_result"
    }
   ],
   "source": [
    "raw_data.corr()"
   ],
   "metadata": {
    "collapsed": false,
    "pycharm": {
     "name": "#%%\n"
    }
   }
  },
  {
   "cell_type": "code",
   "execution_count": 7,
   "outputs": [
    {
     "data": {
      "text/plain": "          correct          id\ncount  140.000000  140.000000\nmean     0.357143    1.514286\nstd      0.480878    1.134709\nmin      0.000000    0.000000\n25%      0.000000    0.000000\n50%      0.000000    2.000000\n75%      1.000000    3.000000\nmax      1.000000    3.000000",
      "text/html": "<div>\n<style scoped>\n    .dataframe tbody tr th:only-of-type {\n        vertical-align: middle;\n    }\n\n    .dataframe tbody tr th {\n        vertical-align: top;\n    }\n\n    .dataframe thead th {\n        text-align: right;\n    }\n</style>\n<table border=\"1\" class=\"dataframe\">\n  <thead>\n    <tr style=\"text-align: right;\">\n      <th></th>\n      <th>correct</th>\n      <th>id</th>\n    </tr>\n  </thead>\n  <tbody>\n    <tr>\n      <th>count</th>\n      <td>140.000000</td>\n      <td>140.000000</td>\n    </tr>\n    <tr>\n      <th>mean</th>\n      <td>0.357143</td>\n      <td>1.514286</td>\n    </tr>\n    <tr>\n      <th>std</th>\n      <td>0.480878</td>\n      <td>1.134709</td>\n    </tr>\n    <tr>\n      <th>min</th>\n      <td>0.000000</td>\n      <td>0.000000</td>\n    </tr>\n    <tr>\n      <th>25%</th>\n      <td>0.000000</td>\n      <td>0.000000</td>\n    </tr>\n    <tr>\n      <th>50%</th>\n      <td>0.000000</td>\n      <td>2.000000</td>\n    </tr>\n    <tr>\n      <th>75%</th>\n      <td>1.000000</td>\n      <td>3.000000</td>\n    </tr>\n    <tr>\n      <th>max</th>\n      <td>1.000000</td>\n      <td>3.000000</td>\n    </tr>\n  </tbody>\n</table>\n</div>"
     },
     "execution_count": 7,
     "metadata": {},
     "output_type": "execute_result"
    }
   ],
   "source": [
    "raw_data.describe()"
   ],
   "metadata": {
    "collapsed": false,
    "pycharm": {
     "name": "#%%\n"
    }
   }
  },
  {
   "cell_type": "code",
   "execution_count": 8,
   "outputs": [
    {
     "data": {
      "text/plain": "<Figure size 640x480 with 1 Axes>",
      "image/png": "[encoded data removed]"
     },
     "metadata": {},
     "output_type": "display_data"
    }
   ],
   "source": [
    "# plot the pie distribution of the target variable with title \"Distribution of Correct Answers\" and labels\n",
    "import matplotlib.pyplot as plt\n",
    "import seaborn as sns\n",
    "sns.set(style=\"darkgrid\")\n",
    "sns.countplot(x=\"correct\", data=raw_data)\n",
    "plt.title(\"Distribution of Correct Answers\")\n",
    "plt.show()\n",
    "\n"
   ],
   "metadata": {
    "collapsed": false,
    "pycharm": {
     "name": "#%%\n"
    }
   }
  },
  {
   "cell_type": "code",
   "execution_count": 8,
   "outputs": [],
   "source": [],
   "metadata": {
    "collapsed": false,
    "pycharm": {
     "name": "#%%\n"
    }
   }
  },
  {
   "cell_type": "markdown",
   "source": [],
   "metadata": {
    "collapsed": false,
    "pycharm": {
     "name": "#%% md\n"
    }
   }
  },
  {
   "cell_type": "code",
   "execution_count": 9,
   "outputs": [
    {
     "data": {
      "text/plain": "0    90\n1    50\nName: correct, dtype: int64"
     },
     "execution_count": 9,
     "metadata": {},
     "output_type": "execute_result"
    }
   ],
   "source": [
    "raw_data.correct.value_counts()"
   ],
   "metadata": {
    "collapsed": false,
    "pycharm": {
     "name": "#%%\n"
    }
   }
  },
  {
   "cell_type": "code",
   "execution_count": 10,
   "outputs": [
    {
     "name": "stderr",
     "output_type": "stream",
     "text": [
      "C:\\Users\\Rodrigues\\anaconda3\\envs\\Pictures\\lib\\site-packages\\ipykernel_launcher.py:3: UserWarning: \n",
      "\n",
      "`distplot` is a deprecated function and will be removed in seaborn v0.14.0.\n",
      "\n",
      "Please adapt your code to use either `displot` (a figure-level function with\n",
      "similar flexibility) or `histplot` (an axes-level function for histograms).\n",
      "\n",
      "For a guide to updating your code to use the new functions, please see\n",
      "https://gist.github.com/mwaskom/de44147ed2974457ad6372750bbe5751\n",
      "\n",
      "  This is separate from the ipykernel package so we can avoid doing imports until\n"
     ]
    },
    {
     "data": {
      "text/plain": "<Figure size 640x480 with 1 Axes>",
      "image/png": "[encoded data removed]"
     },
     "metadata": {},
     "output_type": "display_data"
    }
   ],
   "source": [
    "# create column of length of answer text and plot distribution of length with title \"Distribution of Answer Lengths\"\n",
    "raw_data['answer_length'] = raw_data['answer'].apply(lambda x: len(x))\n",
    "sns.distplot(raw_data['answer_length'], kde=False)\n",
    "plt.title(\"Distribution of Answer Lengths\")\n",
    "plt.show()\n"
   ],
   "metadata": {
    "collapsed": false,
    "pycharm": {
     "name": "#%%\n"
    }
   }
  },
  {
   "cell_type": "code",
   "execution_count": 11,
   "outputs": [
    {
     "name": "stderr",
     "output_type": "stream",
     "text": [
      "C:\\Users\\Rodrigues\\anaconda3\\envs\\Pictures\\lib\\site-packages\\ipykernel_launcher.py:3: UserWarning: \n",
      "\n",
      "`distplot` is a deprecated function and will be removed in seaborn v0.14.0.\n",
      "\n",
      "Please adapt your code to use either `displot` (a figure-level function with\n",
      "similar flexibility) or `histplot` (an axes-level function for histograms).\n",
      "\n",
      "For a guide to updating your code to use the new functions, please see\n",
      "https://gist.github.com/mwaskom/de44147ed2974457ad6372750bbe5751\n",
      "\n",
      "  This is separate from the ipykernel package so we can avoid doing imports until\n"
     ]
    },
    {
     "data": {
      "text/plain": "<Figure size 640x480 with 1 Axes>",
      "image/png": "[encoded data removed]"
     },
     "metadata": {},
     "output_type": "display_data"
    }
   ],
   "source": [
    "# create column of number of words in answer text and plot distribution of number of words with title \"Distribution of Number of Words in Answers\"\n",
    "raw_data['answer_num_words'] = raw_data['answer'].apply(lambda x: len(x.split()))\n",
    "sns.distplot(raw_data['answer_num_words'], kde=False)\n",
    "plt.title(\"Distribution of Number of Words in Answers\")\n",
    "plt.show()\n"
   ],
   "metadata": {
    "collapsed": false,
    "pycharm": {
     "name": "#%%\n"
    }
   }
  },
  {
   "cell_type": "code",
   "execution_count": 12,
   "outputs": [
    {
     "name": "stderr",
     "output_type": "stream",
     "text": [
      "C:\\Users\\Rodrigues\\anaconda3\\envs\\Pictures\\lib\\site-packages\\ipykernel_launcher.py:3: UserWarning: \n",
      "\n",
      "`distplot` is a deprecated function and will be removed in seaborn v0.14.0.\n",
      "\n",
      "Please adapt your code to use either `displot` (a figure-level function with\n",
      "similar flexibility) or `histplot` (an axes-level function for histograms).\n",
      "\n",
      "For a guide to updating your code to use the new functions, please see\n",
      "https://gist.github.com/mwaskom/de44147ed2974457ad6372750bbe5751\n",
      "\n",
      "  This is separate from the ipykernel package so we can avoid doing imports until\n"
     ]
    },
    {
     "data": {
      "text/plain": "<Figure size 640x480 with 1 Axes>",
      "image/png": "[encoded data removed]"
     },
     "metadata": {},
     "output_type": "display_data"
    }
   ],
   "source": [
    "# create a column of reference answer length and plot distribution of length with title \"Distribution of Reference Answer Lengths\"\n",
    "raw_data['reference_answer_length'] = raw_data['reference_answer'].apply(lambda x: len(x))\n",
    "sns.distplot(raw_data['reference_answer_length'], kde=False)\n",
    "plt.title(\"Distribution of Reference Answer Lengths\")\n",
    "plt.show()\n"
   ],
   "metadata": {
    "collapsed": false,
    "pycharm": {
     "name": "#%%\n"
    }
   }
  },
  {
   "cell_type": "code",
   "execution_count": 13,
   "outputs": [
    {
     "name": "stderr",
     "output_type": "stream",
     "text": [
      "C:\\Users\\Rodrigues\\anaconda3\\envs\\Pictures\\lib\\site-packages\\ipykernel_launcher.py:3: UserWarning: \n",
      "\n",
      "`distplot` is a deprecated function and will be removed in seaborn v0.14.0.\n",
      "\n",
      "Please adapt your code to use either `displot` (a figure-level function with\n",
      "similar flexibility) or `histplot` (an axes-level function for histograms).\n",
      "\n",
      "For a guide to updating your code to use the new functions, please see\n",
      "https://gist.github.com/mwaskom/de44147ed2974457ad6372750bbe5751\n",
      "\n",
      "  This is separate from the ipykernel package so we can avoid doing imports until\n"
     ]
    },
    {
     "data": {
      "text/plain": "<Figure size 640x480 with 1 Axes>",
      "image/png": "[encoded data removed]"
     },
     "metadata": {},
     "output_type": "display_data"
    }
   ],
   "source": [
    "# create a column of the difference in length between answer and reference answer and plot distribution of length with title \"Distribution of Difference in Lengths Between Answer and Reference Answer\"\n",
    "raw_data['answer_length_difference'] = raw_data['answer_length'] - raw_data['reference_answer_length']\n",
    "sns.distplot(raw_data['answer_length_difference'], kde=False)\n",
    "plt.title(\"Distribution of Difference in Lengths Between Answer and Reference Answer\")\n",
    "plt.show()"
   ],
   "metadata": {
    "collapsed": false,
    "pycharm": {
     "name": "#%%\n"
    }
   }
  },
  {
   "cell_type": "code",
   "execution_count": 18,
   "outputs": [
    {
     "name": "stderr",
     "output_type": "stream",
     "text": [
      "C:\\Users\\Rodrigues\\anaconda3\\envs\\Pictures\\lib\\site-packages\\ipykernel_launcher.py:7: UserWarning: \n",
      "\n",
      "`distplot` is a deprecated function and will be removed in seaborn v0.14.0.\n",
      "\n",
      "Please adapt your code to use either `displot` (a figure-level function with\n",
      "similar flexibility) or `histplot` (an axes-level function for histograms).\n",
      "\n",
      "For a guide to updating your code to use the new functions, please see\n",
      "https://gist.github.com/mwaskom/de44147ed2974457ad6372750bbe5751\n",
      "\n",
      "  import sys\n"
     ]
    },
    {
     "data": {
      "text/plain": "<Figure size 640x480 with 1 Axes>",
      "image/png": "[encoded data removed]"
     },
     "metadata": {},
     "output_type": "display_data"
    }
   ],
   "source": [
    "# create a column that remove stop words from answer and reference answer and plot distribution of length with title \"Distribution of Answer Lengths Without Stop Words\"\n",
    "from nltk.corpus import stopwords\n",
    "stop_words = set(stopwords.words('english'))\n",
    "raw_data['answer_without_stop_words'] = raw_data['answer'].apply(lambda x: ' '.join([word for word in x.split() if word not in (stop_words)]))\n",
    "raw_data['reference_answer_without_stop_words'] = raw_data['reference_answer'].apply(lambda x: ' '.join([word for word in x.split() if word not in (stop_words)]))\n",
    "raw_data['answer_length_without_stop_words'] = raw_data['answer_without_stop_words'].apply(lambda x: len(x))\n",
    "sns.distplot(raw_data['answer_length_without_stop_words'], kde=False)\n",
    "plt.title(\"Distribution of Answer Lengths Without Stop Words\")\n",
    "plt.show()\n",
    "\n"
   ],
   "metadata": {
    "collapsed": false,
    "pycharm": {
     "name": "#%%\n"
    }
   }
  },
  {
   "cell_type": "code",
   "execution_count": 19,
   "outputs": [
    {
     "data": {
      "text/plain": "                                                answer  correct  \\\n0    You could tell if it has the hardest if most o...        0   \n1    If just the penny could scratch and the nickel...        1   \n2        Whichever one was damaged most was less hard.        1   \n3                          Rub them against a crystal.        0   \n4                            Which had less scratches.        1   \n..                                                 ...      ...   \n135         The tighter the string the higher it gets.        1   \n136  When she make the the loose it get the sound l...        1   \n137                               The pitch is higher.        1   \n138      It was louder because the string was tighter.        0   \n139                              By moving her finger.        0   \n\n                                              question  \\\n0    Carrie wanted to find out which was harder, a ...   \n1    Carrie wanted to find out which was harder, a ...   \n2    Carrie wanted to find out which was harder, a ...   \n3    Carrie wanted to find out which was harder, a ...   \n4    Carrie wanted to find out which was harder, a ...   \n..                                                 ...   \n135  Katie got a guitar for her birthday. She exper...   \n136  Katie got a guitar for her birthday. She exper...   \n137  Katie got a guitar for her birthday. She exper...   \n138  Katie got a guitar for her birthday. She exper...   \n139  Katie got a guitar for her birthday. She exper...   \n\n                                      reference_answer  id  answer_length  \\\n0              The harder coin will scratch the other.   0             60   \n1              The harder coin will scratch the other.   0             77   \n2              The harder coin will scratch the other.   0             45   \n3              The harder coin will scratch the other.   0             27   \n4              The harder coin will scratch the other.   0             25   \n..                                                 ...  ..            ...   \n135  When the string was tighter, the pitch was hig...   3             42   \n136  When the string was tighter, the pitch was hig...   3             51   \n137  When the string was tighter, the pitch was hig...   3             20   \n138  When the string was tighter, the pitch was hig...   3             45   \n139  When the string was tighter, the pitch was hig...   3             21   \n\n     answer_num_words  reference_answer_length  answer_length_difference  \\\n0                  14                       39                        21   \n1                  15                       39                        38   \n2                   8                       39                         6   \n3                   5                       39                       -12   \n4                   4                       39                       -14   \n..                ...                      ...                       ...   \n135                 8                       50                        -8   \n136                11                       50                         1   \n137                 4                       50                       -30   \n138                 8                       50                        -5   \n139                 4                       50                       -29   \n\n           reference_answer_key_words  \\\n0    [tighter, string, pitch, higher]   \n1    [tighter, string, pitch, higher]   \n2    [tighter, string, pitch, higher]   \n3    [tighter, string, pitch, higher]   \n4    [tighter, string, pitch, higher]   \n..                                ...   \n135  [tighter, string, pitch, higher]   \n136  [tighter, string, pitch, higher]   \n137  [tighter, string, pitch, higher]   \n138  [tighter, string, pitch, higher]   \n139  [tighter, string, pitch, higher]   \n\n                             answer_without_stop_words  \\\n0                     You could tell hardest came off.   \n1    If penny could scratch nickel could penny harder.   \n2                     Whichever one damaged less hard.   \n3                                         Rub crystal.   \n4                                Which less scratches.   \n..                                                 ...   \n135                    The tighter string higher gets.   \n136                   When make loose get sound lower.   \n137                                  The pitch higher.   \n138                          It louder string tighter.   \n139                                  By moving finger.   \n\n    reference_answer_without_stop_words  answer_length_without_stop_words  \n0        The harder coin scratch other.                                32  \n1        The harder coin scratch other.                                49  \n2        The harder coin scratch other.                                32  \n3        The harder coin scratch other.                                12  \n4        The harder coin scratch other.                                21  \n..                                  ...                               ...  \n135  When string tighter, pitch higher.                                31  \n136  When string tighter, pitch higher.                                32  \n137  When string tighter, pitch higher.                                17  \n138  When string tighter, pitch higher.                                25  \n139  When string tighter, pitch higher.                                17  \n\n[140 rows x 13 columns]",
      "text/html": "<div>\n<style scoped>\n    .dataframe tbody tr th:only-of-type {\n        vertical-align: middle;\n    }\n\n    .dataframe tbody tr th {\n        vertical-align: top;\n    }\n\n    .dataframe thead th {\n        text-align: right;\n    }\n</style>\n<table border=\"1\" class=\"dataframe\">\n  <thead>\n    <tr style=\"text-align: right;\">\n      <th></th>\n      <th>answer</th>\n      <th>correct</th>\n      <th>question</th>\n      <th>reference_answer</th>\n      <th>id</th>\n      <th>answer_length</th>\n      <th>answer_num_words</th>\n      <th>reference_answer_length</th>\n      <th>answer_length_difference</th>\n      <th>reference_answer_key_words</th>\n      <th>answer_without_stop_words</th>\n      <th>reference_answer_without_stop_words</th>\n      <th>answer_length_without_stop_words</th>\n    </tr>\n  </thead>\n  <tbody>\n    <tr>\n      <th>0</th>\n      <td>You could tell if it has the hardest if most o...</td>\n      <td>0</td>\n      <td>Carrie wanted to find out which was harder, a ...</td>\n      <td>The harder coin will scratch the other.</td>\n      <td>0</td>\n      <td>60</td>\n      <td>14</td>\n      <td>39</td>\n      <td>21</td>\n      <td>[tighter, string, pitch, higher]</td>\n      <td>You could tell hardest came off.</td>\n      <td>The harder coin scratch other.</td>\n      <td>32</td>\n    </tr>\n    <tr>\n      <th>1</th>\n      <td>If just the penny could scratch and the nickel...</td>\n      <td>1</td>\n      <td>Carrie wanted to find out which was harder, a ...</td>\n      <td>The harder coin will scratch the other.</td>\n      <td>0</td>\n      <td>77</td>\n      <td>15</td>\n      <td>39</td>\n      <td>38</td>\n      <td>[tighter, string, pitch, higher]</td>\n      <td>If penny could scratch nickel could penny harder.</td>\n      <td>The harder coin scratch other.</td>\n      <td>49</td>\n    </tr>\n    <tr>\n      <th>2</th>\n      <td>Whichever one was damaged most was less hard.</td>\n      <td>1</td>\n      <td>Carrie wanted to find out which was harder, a ...</td>\n      <td>The harder coin will scratch the other.</td>\n      <td>0</td>\n      <td>45</td>\n      <td>8</td>\n      <td>39</td>\n      <td>6</td>\n      <td>[tighter, string, pitch, higher]</td>\n      <td>Whichever one damaged less hard.</td>\n      <td>The harder coin scratch other.</td>\n      <td>32</td>\n    </tr>\n    <tr>\n      <th>3</th>\n      <td>Rub them against a crystal.</td>\n      <td>0</td>\n      <td>Carrie wanted to find out which was harder, a ...</td>\n      <td>The harder coin will scratch the other.</td>\n      <td>0</td>\n      <td>27</td>\n      <td>5</td>\n      <td>39</td>\n      <td>-12</td>\n      <td>[tighter, string, pitch, higher]</td>\n      <td>Rub crystal.</td>\n      <td>The harder coin scratch other.</td>\n      <td>12</td>\n    </tr>\n    <tr>\n      <th>4</th>\n      <td>Which had less scratches.</td>\n      <td>1</td>\n      <td>Carrie wanted to find out which was harder, a ...</td>\n      <td>The harder coin will scratch the other.</td>\n      <td>0</td>\n      <td>25</td>\n      <td>4</td>\n      <td>39</td>\n      <td>-14</td>\n      <td>[tighter, string, pitch, higher]</td>\n      <td>Which less scratches.</td>\n      <td>The harder coin scratch other.</td>\n      <td>21</td>\n    </tr>\n    <tr>\n      <th>...</th>\n      <td>...</td>\n      <td>...</td>\n      <td>...</td>\n      <td>...</td>\n      <td>...</td>\n      <td>...</td>\n      <td>...</td>\n      <td>...</td>\n      <td>...</td>\n      <td>...</td>\n      <td>...</td>\n      <td>...</td>\n      <td>...</td>\n    </tr>\n    <tr>\n      <th>135</th>\n      <td>The tighter the string the higher it gets.</td>\n      <td>1</td>\n      <td>Katie got a guitar for her birthday. She exper...</td>\n      <td>When the string was tighter, the pitch was hig...</td>\n      <td>3</td>\n      <td>42</td>\n      <td>8</td>\n      <td>50</td>\n      <td>-8</td>\n      <td>[tighter, string, pitch, higher]</td>\n      <td>The tighter string higher gets.</td>\n      <td>When string tighter, pitch higher.</td>\n      <td>31</td>\n    </tr>\n    <tr>\n      <th>136</th>\n      <td>When she make the the loose it get the sound l...</td>\n      <td>1</td>\n      <td>Katie got a guitar for her birthday. She exper...</td>\n      <td>When the string was tighter, the pitch was hig...</td>\n      <td>3</td>\n      <td>51</td>\n      <td>11</td>\n      <td>50</td>\n      <td>1</td>\n      <td>[tighter, string, pitch, higher]</td>\n      <td>When make loose get sound lower.</td>\n      <td>When string tighter, pitch higher.</td>\n      <td>32</td>\n    </tr>\n    <tr>\n      <th>137</th>\n      <td>The pitch is higher.</td>\n      <td>1</td>\n      <td>Katie got a guitar for her birthday. She exper...</td>\n      <td>When the string was tighter, the pitch was hig...</td>\n      <td>3</td>\n      <td>20</td>\n      <td>4</td>\n      <td>50</td>\n      <td>-30</td>\n      <td>[tighter, string, pitch, higher]</td>\n      <td>The pitch higher.</td>\n      <td>When string tighter, pitch higher.</td>\n      <td>17</td>\n    </tr>\n    <tr>\n      <th>138</th>\n      <td>It was louder because the string was tighter.</td>\n      <td>0</td>\n      <td>Katie got a guitar for her birthday. She exper...</td>\n      <td>When the string was tighter, the pitch was hig...</td>\n      <td>3</td>\n      <td>45</td>\n      <td>8</td>\n      <td>50</td>\n      <td>-5</td>\n      <td>[tighter, string, pitch, higher]</td>\n      <td>It louder string tighter.</td>\n      <td>When string tighter, pitch higher.</td>\n      <td>25</td>\n    </tr>\n    <tr>\n      <th>139</th>\n      <td>By moving her finger.</td>\n      <td>0</td>\n      <td>Katie got a guitar for her birthday. She exper...</td>\n      <td>When the string was tighter, the pitch was hig...</td>\n      <td>3</td>\n      <td>21</td>\n      <td>4</td>\n      <td>50</td>\n      <td>-29</td>\n      <td>[tighter, string, pitch, higher]</td>\n      <td>By moving finger.</td>\n      <td>When string tighter, pitch higher.</td>\n      <td>17</td>\n    </tr>\n  </tbody>\n</table>\n<p>140 rows × 13 columns</p>\n</div>"
     },
     "execution_count": 19,
     "metadata": {},
     "output_type": "execute_result"
    }
   ],
   "source": [
    "raw_data"
   ],
   "metadata": {
    "collapsed": false,
    "pycharm": {
     "name": "#%%\n"
    }
   }
  },
  {
   "cell_type": "code",
   "execution_count": 24,
   "outputs": [],
   "source": [
    "# compare the difference between answer_without_stop_words and reference_answer_without_stop_words using the Levenshtein distance, jaccard similarity, fuzzywuzzy ratio, token sort ratio, token set ratio, partial ratio, and partial token set ratio\n",
    "from nltk.metrics import edit_distance, jaccard_distance\n",
    "raw_data['levenshtein_distance'] = raw_data.apply(lambda x: edit_distance(x['answer_without_stop_words'], x['reference_answer_without_stop_words']), axis=1)\n",
    "raw_data['jaccard_similarity'] = raw_data.apply(lambda x: 1 - jaccard_distance(set(x['answer_without_stop_words'].split()), set(x['reference_answer_without_stop_words'].split())), axis=1)\n",
    "from fuzzywuzzy import fuzz\n",
    "raw_data['fuzzywuzzy_ratio'] = raw_data.apply(lambda x: fuzz.ratio(x['answer_without_stop_words'], x['reference_answer_without_stop_words']), axis=1)\n",
    "raw_data['fuzzywuzzy_token_sort_ratio'] = raw_data.apply(lambda x: fuzz.token_sort_ratio(x['answer_without_stop_words'], x['reference_answer_without_stop_words']), axis=1)\n",
    "raw_data['fuzzywuzzy_token_set_ratio'] = raw_data.apply(lambda x: fuzz.token_set_ratio(x['answer_without_stop_words'], x['reference_answer_without_stop_words']), axis=1)\n",
    "raw_data['fuzzywuzzy_partial_ratio'] = raw_data.apply(lambda x: fuzz.partial_ratio(x['answer_without_stop_words'], x['reference_answer_without_stop_words']), axis=1)\n",
    "raw_data['fuzzywuzzy_partial_token_set_ratio'] = raw_data.apply(lambda x: fuzz.partial_token_set_ratio(x['answer_without_stop_words'], x['reference_answer_without_stop_words']), axis=1)\n",
    "\n",
    "\n"
   ],
   "metadata": {
    "collapsed": false,
    "pycharm": {
     "name": "#%%\n"
    }
   }
  },
  {
   "cell_type": "code",
   "execution_count": 25,
   "outputs": [
    {
     "data": {
      "text/plain": "<Figure size 1000x1000 with 2 Axes>",
      "image/png": "[encoded data removed]"
     },
     "metadata": {},
     "output_type": "display_data"
    }
   ],
   "source": [
    "# plot correlation matrix of all features with title \"Correlation Matrix\" removing id column with values in each cell\n",
    "corr = raw_data.drop('id', axis=1).corr()\n",
    "plt.figure(figsize=(10,10))\n",
    "sns.heatmap(corr, annot=True, fmt=\".2f\")\n",
    "plt.title(\"Correlation Matrix\")\n",
    "plt.show()\n"
   ],
   "metadata": {
    "collapsed": false,
    "pycharm": {
     "name": "#%%\n"
    }
   }
  },
  {
   "cell_type": "markdown",
   "source": [],
   "metadata": {
    "collapsed": false,
    "pycharm": {
     "name": "#%% md\n"
    }
   }
  },
  {
   "cell_type": "code",
   "execution_count": 73,
   "outputs": [],
   "source": [
    "#split raw_data into train and test\n",
    "train_data = raw_data.sample(frac=0.8,random_state=200)\n",
    "test_data = raw_data.drop(train_data.index)\n"
   ],
   "metadata": {
    "collapsed": false,
    "pycharm": {
     "name": "#%%\n"
    }
   }
  },
  {
   "cell_type": "code",
   "execution_count": 74,
   "outputs": [],
   "source": [
    "# define a fuction that preprocesses the data\n",
    "def preprocess(data):\n",
    "    # remove punctuation\n",
    "    data['answer'] = data['answer'].str.replace('[^\\w\\s]','')\n",
    "    # convert to lower case\n",
    "    data['answer'] = data['answer'].str.lower()\n",
    "    # remove numbers\n",
    "    data['answer'] = data['answer'].str.replace('\\d+', '')\n",
    "    # remove extra spaces\n",
    "    data['answer'] = data['answer'].str.replace(' +', ' ')\n",
    "    # remove leading and trailing spaces\n",
    "    data['answer'] = data['answer'].str.strip()\n",
    "    return data\n",
    "\n",
    "# define vectorizer method\n",
    "def vectorize(data, method):\n",
    "    if method == 'tfidf':\n",
    "        from sklearn.feature_extraction.text import TfidfVectorizer\n",
    "        vectorizer = TfidfVectorizer()\n",
    "    elif method == 'count':\n",
    "        from sklearn.feature_extraction.text import CountVectorizer\n",
    "        vectorizer = CountVectorizer()\n",
    "    elif method == 'hash':\n",
    "        from sklearn.feature_extraction.text import HashingVectorizer\n",
    "        vectorizer = HashingVectorizer()\n",
    "    elif method == 'word2vec':\n",
    "        from gensim.models import Word2Vec\n",
    "        vectorizer = Word2Vec(data['answer'].str.split(), window=5, min_count=1, workers=4)\n",
    "    elif method == 'doc2vec':\n",
    "        from gensim.models.doc2vec import Doc2Vec, TaggedDocument\n",
    "        documents = [TaggedDocument(doc, [i]) for i, doc in enumerate(data['answer'].str.split())]\n",
    "        vectorizer = Doc2Vec(documents, vector_size=5, window=2, min_count=1, workers=4)\n",
    "    elif method == 'fasttext':\n",
    "        from gensim.models import FastText\n",
    "        vectorizer = FastText(data['answer'].str.split(), window=5, min_count=1, workers=4)\n",
    "    else:\n",
    "        print('Invalid vectorizer method')\n",
    "    return vectorizer"
   ],
   "metadata": {
    "collapsed": false,
    "pycharm": {
     "name": "#%%\n"
    }
   }
  },
  {
   "cell_type": "code",
   "execution_count": 75,
   "outputs": [
    {
     "name": "stderr",
     "output_type": "stream",
     "text": [
      "C:\\Users\\Rodrigues\\anaconda3\\envs\\Pictures\\lib\\site-packages\\ipykernel_launcher.py:4: FutureWarning:\n",
      "\n",
      "The default value of regex will change from True to False in a future version.\n",
      "\n",
      "C:\\Users\\Rodrigues\\anaconda3\\envs\\Pictures\\lib\\site-packages\\ipykernel_launcher.py:8: FutureWarning:\n",
      "\n",
      "The default value of regex will change from True to False in a future version.\n",
      "\n",
      "C:\\Users\\Rodrigues\\anaconda3\\envs\\Pictures\\lib\\site-packages\\ipykernel_launcher.py:10: FutureWarning:\n",
      "\n",
      "The default value of regex will change from True to False in a future version.\n",
      "\n"
     ]
    }
   ],
   "source": [
    "# preprocess train and test data\n",
    "train_data = preprocess(train_data)\n",
    "test_data = preprocess(test_data)"
   ],
   "metadata": {
    "collapsed": false,
    "pycharm": {
     "name": "#%%\n"
    }
   }
  },
  {
   "cell_type": "code",
   "execution_count": 77,
   "outputs": [
    {
     "name": "stdout",
     "output_type": "stream",
     "text": [
      "Vectorizing with tfidf\n",
      "Reference vectorizer: False\n",
      "Fitting vectorizer...\n",
      "Vectorizing with count\n",
      "Reference vectorizer: False\n",
      "Fitting vectorizer...\n",
      "Vectorizing with hash\n",
      "Reference vectorizer: False\n",
      "Fitting vectorizer...\n"
     ]
    }
   ],
   "source": [
    "VECTORIZER_BY_REFERENCE = False\n",
    "\n",
    "# fit vectorizer with train data and transform train and test data for each vectorizer method\n",
    "vectorizer_methods = ['tfidf', 'count', 'hash']\n",
    "vectorizers = {}\n",
    "\n",
    "methods_df = pd.DataFrame()\n",
    "\n",
    "for method in vectorizer_methods:\n",
    "    print('Vectorizing with ' + method)\n",
    "    print('Reference vectorizer: ' + str(VECTORIZER_BY_REFERENCE))\n",
    "    print('Fitting vectorizer...')\n",
    "    vectorizer = vectorize(train_data, method)\n",
    "    vectorizers[method] = vectorizer\n",
    "    vectorizer.fit(train_data['reference_answer'] if VECTORIZER_BY_REFERENCE else train_data['answer']) if method not in ['word2vec', 'doc2vec', 'fasttext', 'universal_sentence_encoder', 'bert', 'roberta', 'albert', 'xlnet', 'gpt2', 'gpt2-medium', 'gpt2-large', 'gpt2-xl', 'elmo', 'albert', 'albert-large', 'albert-xlarge', 'albert-xxlarge'] else vectorizer\n",
    "    train_vectors = vectorizer.transform(train_data['answer']) if method not in ['word2vec', 'doc2vec', 'fasttext', 'universal_sentence_encoder', 'bert', 'roberta', 'albert', 'xlnet', 'gpt2', 'gpt2-medium', 'gpt2-large', 'gpt2-xl', 'elmo', 'albert', 'albert-large', 'albert-xlarge', 'albert-xxlarge'] else vectorizer(train_data['answer'])\n",
    "    test_vectors = vectorizer.transform(test_data['answer']) if method not in ['word2vec', 'doc2vec', 'fasttext', 'universal_sentence_encoder', 'bert', 'roberta', 'albert', 'xlnet', 'gpt2', 'gpt2-medium', 'gpt2-large', 'gpt2-xl', 'elmo', 'albert', 'albert-large', 'albert-xlarge', 'albert-xxlarge'] else vectorizer(test_data['answer'])\n",
    "    methods_df[method] = [train_vectors, test_vectors]\n",
    "\n"
   ],
   "metadata": {
    "collapsed": false,
    "pycharm": {
     "name": "#%%\n"
    }
   }
  },
  {
   "cell_type": "code",
   "execution_count": 78,
   "outputs": [],
   "source": [
    "# define a function that trains a model and returns the accuracy\n",
    "\n",
    "def train_model(train_vectors, train_labels, model):\n",
    "    if model == 'logistic':\n",
    "        from sklearn.linear_model import LogisticRegression\n",
    "        clf = LogisticRegression(random_state=0, solver='lbfgs', multi_class='multinomial').fit(train_vectors, train_labels)\n",
    "    elif model == 'svm':\n",
    "        from sklearn import svm\n",
    "        clf = svm.SVC(gamma='scale').fit(train_vectors, train_labels)\n",
    "    elif model == 'random_forest':\n",
    "        from sklearn.ensemble import RandomForestClassifier\n",
    "        clf = RandomForestClassifier(n_estimators=100, max_depth=2, random_state=0).fit(train_vectors, train_labels)\n",
    "    elif model == 'knn':\n",
    "        from sklearn.neighbors import KNeighborsClassifier\n",
    "        clf = KNeighborsClassifier(n_neighbors=3).fit(train_vectors, train_labels)\n",
    "    elif model == 'decision_tree':\n",
    "        from sklearn.tree import DecisionTreeClassifier\n",
    "        clf = DecisionTreeClassifier(random_state=0).fit(train_vectors, train_labels)\n",
    "    elif model == 'xgboost':\n",
    "        from xgboost import XGBClassifier\n",
    "        clf = XGBClassifier().fit(train_vectors, train_labels)\n",
    "    else:\n",
    "        print('Invalid model')\n",
    "    return clf\n"
   ],
   "metadata": {
    "collapsed": false,
    "pycharm": {
     "name": "#%%\n"
    }
   }
  },
  {
   "cell_type": "code",
   "execution_count": 79,
   "outputs": [
    {
     "name": "stdout",
     "output_type": "stream",
     "text": [
      "Training with tfidf\n",
      "Training logistic\n",
      "Training svm\n",
      "Training random_forest\n",
      "Training knn\n",
      "Training decision_tree\n",
      "Training xgboost\n",
      "[16:51:58] WARNING: C:\\Windows\\Temp\\abs_557yfx631l\\croots\\recipe\\xgboost-split_1659548953302\\work\\src\\learner.cc:1115: Starting in XGBoost 1.3.0, the default evaluation metric used with the objective 'binary:logistic' was changed from 'error' to 'logloss'. Explicitly set eval_metric if you'd like to restore the old behavior.\n"
     ]
    },
    {
     "name": "stderr",
     "output_type": "stream",
     "text": [
      "C:\\Users\\Rodrigues\\anaconda3\\envs\\Pictures\\lib\\site-packages\\xgboost\\sklearn.py:1224: UserWarning:\n",
      "\n",
      "The use of label encoder in XGBClassifier is deprecated and will be removed in a future release. To remove this warning, do the following: 1) Pass option use_label_encoder=False when constructing XGBClassifier object; and 2) Encode your labels (y) as integers starting with 0, i.e. 0, 1, 2, ..., [num_class - 1].\n",
      "\n"
     ]
    },
    {
     "name": "stdout",
     "output_type": "stream",
     "text": [
      "Training with count\n",
      "Training logistic\n",
      "Training svm\n"
     ]
    },
    {
     "name": "stderr",
     "output_type": "stream",
     "text": [
      "C:\\Users\\Rodrigues\\anaconda3\\envs\\Pictures\\lib\\site-packages\\sklearn\\linear_model\\_logistic.py:818: ConvergenceWarning:\n",
      "\n",
      "lbfgs failed to converge (status=1):\n",
      "STOP: TOTAL NO. of ITERATIONS REACHED LIMIT.\n",
      "\n",
      "Increase the number of iterations (max_iter) or scale the data as shown in:\n",
      "    https://scikit-learn.org/stable/modules/preprocessing.html\n",
      "Please also refer to the documentation for alternative solver options:\n",
      "    https://scikit-learn.org/stable/modules/linear_model.html#logistic-regression\n",
      "\n"
     ]
    },
    {
     "name": "stdout",
     "output_type": "stream",
     "text": [
      "Training random_forest\n",
      "Training knn\n",
      "Training decision_tree\n",
      "Training xgboost\n",
      "[16:51:59] WARNING: C:\\Windows\\Temp\\abs_557yfx631l\\croots\\recipe\\xgboost-split_1659548953302\\work\\src\\learner.cc:1115: Starting in XGBoost 1.3.0, the default evaluation metric used with the objective 'binary:logistic' was changed from 'error' to 'logloss'. Explicitly set eval_metric if you'd like to restore the old behavior.\n",
      "Training with hash\n",
      "Training logistic\n"
     ]
    },
    {
     "name": "stderr",
     "output_type": "stream",
     "text": [
      "C:\\Users\\Rodrigues\\anaconda3\\envs\\Pictures\\lib\\site-packages\\xgboost\\sklearn.py:1224: UserWarning:\n",
      "\n",
      "The use of label encoder in XGBClassifier is deprecated and will be removed in a future release. To remove this warning, do the following: 1) Pass option use_label_encoder=False when constructing XGBClassifier object; and 2) Encode your labels (y) as integers starting with 0, i.e. 0, 1, 2, ..., [num_class - 1].\n",
      "\n"
     ]
    },
    {
     "name": "stdout",
     "output_type": "stream",
     "text": [
      "Training svm\n",
      "Training random_forest\n",
      "Training knn\n",
      "Training decision_tree\n",
      "Training xgboost\n",
      "[16:52:19] WARNING: C:\\Windows\\Temp\\abs_557yfx631l\\croots\\recipe\\xgboost-split_1659548953302\\work\\src\\learner.cc:1115: Starting in XGBoost 1.3.0, the default evaluation metric used with the objective 'binary:logistic' was changed from 'error' to 'logloss'. Explicitly set eval_metric if you'd like to restore the old behavior.\n"
     ]
    },
    {
     "name": "stderr",
     "output_type": "stream",
     "text": [
      "C:\\Users\\Rodrigues\\anaconda3\\envs\\Pictures\\lib\\site-packages\\xgboost\\sklearn.py:1224: UserWarning:\n",
      "\n",
      "The use of label encoder in XGBClassifier is deprecated and will be removed in a future release. To remove this warning, do the following: 1) Pass option use_label_encoder=False when constructing XGBClassifier object; and 2) Encode your labels (y) as integers starting with 0, i.e. 0, 1, 2, ..., [num_class - 1].\n",
      "\n"
     ]
    }
   ],
   "source": [
    "# train and test each model for each vectorizer method, results are stored in a dataframe for comparison purposes\n",
    "# results are the accuracy, f1 score, precision, recall and roc_auc_score, for each model and vectorizer method\n",
    "\n",
    "from sklearn.metrics import f1_score, precision_score, recall_score, roc_auc_score\n",
    "\n",
    "models = ['logistic', 'svm', 'random_forest', 'knn', 'decision_tree', 'xgboost']\n",
    "results_df = pd.DataFrame(columns=['accuracy', 'f1_score', 'precision', 'recall', 'roc_auc_score'])\n",
    "\n",
    "for method in vectorizer_methods:\n",
    "    print('Training with ' + method)\n",
    "    train_vectors = methods_df[method][0]\n",
    "    test_vectors = methods_df[method][1]\n",
    "    for model in models:\n",
    "        print('Training ' + model)\n",
    "        clf = train_model(train_vectors, train_data['correct'], model)\n",
    "        predict_y = clf.predict(test_vectors)\n",
    "        accuracy = clf.score(test_vectors, test_data['correct'])\n",
    "        f1 = f1_score(test_data['correct'], predict_y)\n",
    "        precision = precision_score(test_data['correct'], predict_y)\n",
    "        recall = recall_score(test_data['correct'], predict_y)\n",
    "        roc_auc = roc_auc_score(test_data['correct'], predict_y)\n",
    "        results_df.loc[model + '_' + method] = [accuracy, f1, precision, recall, roc_auc]\n",
    "\n"
   ],
   "metadata": {
    "collapsed": false,
    "pycharm": {
     "name": "#%%\n"
    }
   }
  },
  {
   "cell_type": "code",
   "execution_count": 80,
   "outputs": [
    {
     "data": {
      "application/vnd.plotly.v1+json": {
       "data": [
        {
         "name": "Accuracy",
         "orientation": "h",
         "x": [
          0.8135245901639344,
          0.805327868852459,
          0.7991803278688525,
          0.7889344262295082,
          0.7848360655737705,
          0.7848360655737705,
          0.7766393442622951,
          0.764344262295082,
          0.764344262295082,
          0.764344262295082,
          0.764344262295082,
          0.7581967213114754,
          0.7438524590163934,
          0.7438524590163934,
          0.735655737704918,
          0.7131147540983607,
          0.7131147540983607,
          0.5573770491803278
         ],
         "y": [
          "svm_tfidf",
          "svm_hash",
          "logistic_tfidf",
          "svm_count",
          "logistic_hash",
          "xgboost_hash",
          "xgboost_count",
          "logistic_count",
          "random_forest_count",
          "random_forest_tfidf",
          "random_forest_hash",
          "xgboost_tfidf",
          "decision_tree_tfidf",
          "decision_tree_count",
          "knn_count",
          "knn_hash",
          "decision_tree_hash",
          "knn_tfidf"
         ],
         "type": "bar"
        },
        {
         "name": "F1 Score",
         "orientation": "h",
         "x": [
          0.8894289185905225,
          0.8862275449101795,
          0.8793103448275862,
          0.8781065088757396,
          0.8721071863580998,
          0.8659003831417624,
          0.8635794743429286,
          0.8492791612057667,
          0.8664343786295006,
          0.8664343786295006,
          0.8664343786295006,
          0.8491048593350383,
          0.8299319727891157,
          0.8339973439575034,
          0.8268456375838926,
          0.8011363636363636,
          0.8102981029810298,
          0.6156583629893237
         ],
         "y": [
          "svm_tfidf",
          "svm_hash",
          "logistic_tfidf",
          "svm_count",
          "logistic_hash",
          "xgboost_hash",
          "xgboost_count",
          "logistic_count",
          "random_forest_count",
          "random_forest_tfidf",
          "random_forest_hash",
          "xgboost_tfidf",
          "decision_tree_tfidf",
          "decision_tree_count",
          "knn_count",
          "knn_hash",
          "decision_tree_hash",
          "knn_tfidf"
         ],
         "type": "bar"
        },
        {
         "name": "ROC AUC",
         "orientation": "h",
         "x": [
          0.6253992306795664,
          0.5959785522788204,
          0.6220305396899406,
          0.5581886000699382,
          0.5885884135680148,
          0.6457279403193845,
          0.6102925748921786,
          0.6473598321482691,
          0.5,
          0.5,
          0.5,
          0.6102576057815596,
          0.6610210980300735,
          0.6339550064110036,
          0.6346077631425574,
          0.6649726075300152,
          0.6138477678051055,
          0.6623382678633873
         ],
         "y": [
          "svm_tfidf",
          "svm_hash",
          "logistic_tfidf",
          "svm_count",
          "logistic_hash",
          "xgboost_hash",
          "xgboost_count",
          "logistic_count",
          "random_forest_count",
          "random_forest_tfidf",
          "random_forest_hash",
          "xgboost_tfidf",
          "decision_tree_tfidf",
          "decision_tree_count",
          "knn_count",
          "knn_hash",
          "decision_tree_hash",
          "knn_tfidf"
         ],
         "type": "bar"
        }
       ],
       "layout": {
        "template": {
         "data": {
          "histogram2dcontour": [
           {
            "type": "histogram2dcontour",
            "colorbar": {
             "outlinewidth": 0,
             "ticks": ""
            },
            "colorscale": [
             [
              0.0,
              "#0d0887"
             ],
             [
              0.1111111111111111,
              "#46039f"
             ],
             [
              0.2222222222222222,
              "#7201a8"
             ],
             [
              0.3333333333333333,
              "#9c179e"
             ],
             [
              0.4444444444444444,
              "#bd3786"
             ],
             [
              0.5555555555555556,
              "#d8576b"
             ],
             [
              0.6666666666666666,
              "#ed7953"
             ],
             [
              0.7777777777777778,
              "#fb9f3a"
             ],
             [
              0.8888888888888888,
              "#fdca26"
             ],
             [
              1.0,
              "#f0f921"
             ]
            ]
           }
          ],
          "choropleth": [
           {
            "type": "choropleth",
            "colorbar": {
             "outlinewidth": 0,
             "ticks": ""
            }
           }
          ],
          "histogram2d": [
           {
            "type": "histogram2d",
            "colorbar": {
             "outlinewidth": 0,
             "ticks": ""
            },
            "colorscale": [
             [
              0.0,
              "#0d0887"
             ],
             [
              0.1111111111111111,
              "#46039f"
             ],
             [
              0.2222222222222222,
              "#7201a8"
             ],
             [
              0.3333333333333333,
              "#9c179e"
             ],
             [
              0.4444444444444444,
              "#bd3786"
             ],
             [
              0.5555555555555556,
              "#d8576b"
             ],
             [
              0.6666666666666666,
              "#ed7953"
             ],
             [
              0.7777777777777778,
              "#fb9f3a"
             ],
             [
              0.8888888888888888,
              "#fdca26"
             ],
             [
              1.0,
              "#f0f921"
             ]
            ]
           }
          ],
          "heatmap": [
           {
            "type": "heatmap",
            "colorbar": {
             "outlinewidth": 0,
             "ticks": ""
            },
            "colorscale": [
             [
              0.0,
              "#0d0887"
             ],
             [
              0.1111111111111111,
              "#46039f"
             ],
             [
              0.2222222222222222,
              "#7201a8"
             ],
             [
              0.3333333333333333,
              "#9c179e"
             ],
             [
              0.4444444444444444,
              "#bd3786"
             ],
             [
              0.5555555555555556,
              "#d8576b"
             ],
             [
              0.6666666666666666,
              "#ed7953"
             ],
             [
              0.7777777777777778,
              "#fb9f3a"
             ],
             [
              0.8888888888888888,
              "#fdca26"
             ],
             [
              1.0,
              "#f0f921"
             ]
            ]
           }
          ],
          "heatmapgl": [
           {
            "type": "heatmapgl",
            "colorbar": {
             "outlinewidth": 0,
             "ticks": ""
            },
            "colorscale": [
             [
              0.0,
              "#0d0887"
             ],
             [
              0.1111111111111111,
              "#46039f"
             ],
             [
              0.2222222222222222,
              "#7201a8"
             ],
             [
              0.3333333333333333,
              "#9c179e"
             ],
             [
              0.4444444444444444,
              "#bd3786"
             ],
             [
              0.5555555555555556,
              "#d8576b"
             ],
             [
              0.6666666666666666,
              "#ed7953"
             ],
             [
              0.7777777777777778,
              "#fb9f3a"
             ],
             [
              0.8888888888888888,
              "#fdca26"
             ],
             [
              1.0,
              "#f0f921"
             ]
            ]
           }
          ],
          "contourcarpet": [
           {
            "type": "contourcarpet",
            "colorbar": {
             "outlinewidth": 0,
             "ticks": ""
            }
           }
          ],
          "contour": [
           {
            "type": "contour",
            "colorbar": {
             "outlinewidth": 0,
             "ticks": ""
            },
            "colorscale": [
             [
              0.0,
              "#0d0887"
             ],
             [
              0.1111111111111111,
              "#46039f"
             ],
             [
              0.2222222222222222,
              "#7201a8"
             ],
             [
              0.3333333333333333,
              "#9c179e"
             ],
             [
              0.4444444444444444,
              "#bd3786"
             ],
             [
              0.5555555555555556,
              "#d8576b"
             ],
             [
              0.6666666666666666,
              "#ed7953"
             ],
             [
              0.7777777777777778,
              "#fb9f3a"
             ],
             [
              0.8888888888888888,
              "#fdca26"
             ],
             [
              1.0,
              "#f0f921"
             ]
            ]
           }
          ],
          "surface": [
           {
            "type": "surface",
            "colorbar": {
             "outlinewidth": 0,
             "ticks": ""
            },
            "colorscale": [
             [
              0.0,
              "#0d0887"
             ],
             [
              0.1111111111111111,
              "#46039f"
             ],
             [
              0.2222222222222222,
              "#7201a8"
             ],
             [
              0.3333333333333333,
              "#9c179e"
             ],
             [
              0.4444444444444444,
              "#bd3786"
             ],
             [
              0.5555555555555556,
              "#d8576b"
             ],
             [
              0.6666666666666666,
              "#ed7953"
             ],
             [
              0.7777777777777778,
              "#fb9f3a"
             ],
             [
              0.8888888888888888,
              "#fdca26"
             ],
             [
              1.0,
              "#f0f921"
             ]
            ]
           }
          ],
          "mesh3d": [
           {
            "type": "mesh3d",
            "colorbar": {
             "outlinewidth": 0,
             "ticks": ""
            }
           }
          ],
          "scatter": [
           {
            "marker": {
             "line": {
              "color": "#283442"
             }
            },
            "type": "scatter"
           }
          ],
          "parcoords": [
           {
            "type": "parcoords",
            "line": {
             "colorbar": {
              "outlinewidth": 0,
              "ticks": ""
             }
            }
           }
          ],
          "scatterpolargl": [
           {
            "type": "scatterpolargl",
            "marker": {
             "colorbar": {
              "outlinewidth": 0,
              "ticks": ""
             }
            }
           }
          ],
          "bar": [
           {
            "error_x": {
             "color": "#f2f5fa"
            },
            "error_y": {
             "color": "#f2f5fa"
            },
            "marker": {
             "line": {
              "color": "rgb(17,17,17)",
              "width": 0.5
             },
             "pattern": {
              "fillmode": "overlay",
              "size": 10,
              "solidity": 0.2
             }
            },
            "type": "bar"
           }
          ],
          "scattergeo": [
           {
            "type": "scattergeo",
            "marker": {
             "colorbar": {
              "outlinewidth": 0,
              "ticks": ""
             }
            }
           }
          ],
          "scatterpolar": [
           {
            "type": "scatterpolar",
            "marker": {
             "colorbar": {
              "outlinewidth": 0,
              "ticks": ""
             }
            }
           }
          ],
          "histogram": [
           {
            "marker": {
             "pattern": {
              "fillmode": "overlay",
              "size": 10,
              "solidity": 0.2
             }
            },
            "type": "histogram"
           }
          ],
          "scattergl": [
           {
            "marker": {
             "line": {
              "color": "#283442"
             }
            },
            "type": "scattergl"
           }
          ],
          "scatter3d": [
           {
            "type": "scatter3d",
            "line": {
             "colorbar": {
              "outlinewidth": 0,
              "ticks": ""
             }
            },
            "marker": {
             "colorbar": {
              "outlinewidth": 0,
              "ticks": ""
             }
            }
           }
          ],
          "scattermapbox": [
           {
            "type": "scattermapbox",
            "marker": {
             "colorbar": {
              "outlinewidth": 0,
              "ticks": ""
             }
            }
           }
          ],
          "scatterternary": [
           {
            "type": "scatterternary",
            "marker": {
             "colorbar": {
              "outlinewidth": 0,
              "ticks": ""
             }
            }
           }
          ],
          "scattercarpet": [
           {
            "type": "scattercarpet",
            "marker": {
             "colorbar": {
              "outlinewidth": 0,
              "ticks": ""
             }
            }
           }
          ],
          "carpet": [
           {
            "aaxis": {
             "endlinecolor": "#A2B1C6",
             "gridcolor": "#506784",
             "linecolor": "#506784",
             "minorgridcolor": "#506784",
             "startlinecolor": "#A2B1C6"
            },
            "baxis": {
             "endlinecolor": "#A2B1C6",
             "gridcolor": "#506784",
             "linecolor": "#506784",
             "minorgridcolor": "#506784",
             "startlinecolor": "#A2B1C6"
            },
            "type": "carpet"
           }
          ],
          "table": [
           {
            "cells": {
             "fill": {
              "color": "#506784"
             },
             "line": {
              "color": "rgb(17,17,17)"
             }
            },
            "header": {
             "fill": {
              "color": "#2a3f5f"
             },
             "line": {
              "color": "rgb(17,17,17)"
             }
            },
            "type": "table"
           }
          ],
          "barpolar": [
           {
            "marker": {
             "line": {
              "color": "rgb(17,17,17)",
              "width": 0.5
             },
             "pattern": {
              "fillmode": "overlay",
              "size": 10,
              "solidity": 0.2
             }
            },
            "type": "barpolar"
           }
          ],
          "pie": [
           {
            "automargin": true,
            "type": "pie"
           }
          ]
         },
         "layout": {
          "autotypenumbers": "strict",
          "colorway": [
           "#636efa",
           "#EF553B",
           "#00cc96",
           "#ab63fa",
           "#FFA15A",
           "#19d3f3",
           "#FF6692",
           "#B6E880",
           "#FF97FF",
           "#FECB52"
          ],
          "font": {
           "color": "#f2f5fa"
          },
          "hovermode": "closest",
          "hoverlabel": {
           "align": "left"
          },
          "paper_bgcolor": "rgb(17,17,17)",
          "plot_bgcolor": "rgb(17,17,17)",
          "polar": {
           "bgcolor": "rgb(17,17,17)",
           "angularaxis": {
            "gridcolor": "#506784",
            "linecolor": "#506784",
            "ticks": ""
           },
           "radialaxis": {
            "gridcolor": "#506784",
            "linecolor": "#506784",
            "ticks": ""
           }
          },
          "ternary": {
           "bgcolor": "rgb(17,17,17)",
           "aaxis": {
            "gridcolor": "#506784",
            "linecolor": "#506784",
            "ticks": ""
           },
           "baxis": {
            "gridcolor": "#506784",
            "linecolor": "#506784",
            "ticks": ""
           },
           "caxis": {
            "gridcolor": "#506784",
            "linecolor": "#506784",
            "ticks": ""
           }
          },
          "coloraxis": {
           "colorbar": {
            "outlinewidth": 0,
            "ticks": ""
           }
          },
          "colorscale": {
           "sequential": [
            [
             0.0,
             "#0d0887"
            ],
            [
             0.1111111111111111,
             "#46039f"
            ],
            [
             0.2222222222222222,
             "#7201a8"
            ],
            [
             0.3333333333333333,
             "#9c179e"
            ],
            [
             0.4444444444444444,
             "#bd3786"
            ],
            [
             0.5555555555555556,
             "#d8576b"
            ],
            [
             0.6666666666666666,
             "#ed7953"
            ],
            [
             0.7777777777777778,
             "#fb9f3a"
            ],
            [
             0.8888888888888888,
             "#fdca26"
            ],
            [
             1.0,
             "#f0f921"
            ]
           ],
           "sequentialminus": [
            [
             0.0,
             "#0d0887"
            ],
            [
             0.1111111111111111,
             "#46039f"
            ],
            [
             0.2222222222222222,
             "#7201a8"
            ],
            [
             0.3333333333333333,
             "#9c179e"
            ],
            [
             0.4444444444444444,
             "#bd3786"
            ],
            [
             0.5555555555555556,
             "#d8576b"
            ],
            [
             0.6666666666666666,
             "#ed7953"
            ],
            [
             0.7777777777777778,
             "#fb9f3a"
            ],
            [
             0.8888888888888888,
             "#fdca26"
            ],
            [
             1.0,
             "#f0f921"
            ]
           ],
           "diverging": [
            [
             0,
             "#8e0152"
            ],
            [
             0.1,
             "#c51b7d"
            ],
            [
             0.2,
             "#de77ae"
            ],
            [
             0.3,
             "#f1b6da"
            ],
            [
             0.4,
             "#fde0ef"
            ],
            [
             0.5,
             "#f7f7f7"
            ],
            [
             0.6,
             "#e6f5d0"
            ],
            [
             0.7,
             "#b8e186"
            ],
            [
             0.8,
             "#7fbc41"
            ],
            [
             0.9,
             "#4d9221"
            ],
            [
             1,
             "#276419"
            ]
           ]
          },
          "xaxis": {
           "gridcolor": "#283442",
           "linecolor": "#506784",
           "ticks": "",
           "title": {
            "standoff": 15
           },
           "zerolinecolor": "#283442",
           "automargin": true,
           "zerolinewidth": 2
          },
          "yaxis": {
           "gridcolor": "#283442",
           "linecolor": "#506784",
           "ticks": "",
           "title": {
            "standoff": 15
           },
           "zerolinecolor": "#283442",
           "automargin": true,
           "zerolinewidth": 2
          },
          "scene": {
           "xaxis": {
            "backgroundcolor": "rgb(17,17,17)",
            "gridcolor": "#506784",
            "linecolor": "#506784",
            "showbackground": true,
            "ticks": "",
            "zerolinecolor": "#C8D4E3",
            "gridwidth": 2
           },
           "yaxis": {
            "backgroundcolor": "rgb(17,17,17)",
            "gridcolor": "#506784",
            "linecolor": "#506784",
            "showbackground": true,
            "ticks": "",
            "zerolinecolor": "#C8D4E3",
            "gridwidth": 2
           },
           "zaxis": {
            "backgroundcolor": "rgb(17,17,17)",
            "gridcolor": "#506784",
            "linecolor": "#506784",
            "showbackground": true,
            "ticks": "",
            "zerolinecolor": "#C8D4E3",
            "gridwidth": 2
           }
          },
          "shapedefaults": {
           "line": {
            "color": "#f2f5fa"
           }
          },
          "annotationdefaults": {
           "arrowcolor": "#f2f5fa",
           "arrowhead": 0,
           "arrowwidth": 1
          },
          "geo": {
           "bgcolor": "rgb(17,17,17)",
           "landcolor": "rgb(17,17,17)",
           "subunitcolor": "#506784",
           "showland": true,
           "showlakes": true,
           "lakecolor": "rgb(17,17,17)"
          },
          "title": {
           "x": 0.05
          },
          "updatemenudefaults": {
           "bgcolor": "#506784",
           "borderwidth": 0
          },
          "sliderdefaults": {
           "bgcolor": "#C8D4E3",
           "borderwidth": 1,
           "bordercolor": "rgb(17,17,17)",
           "tickwidth": 0
          },
          "mapbox": {
           "style": "dark"
          }
         }
        },
        "barmode": "group",
        "title": {
         "text": "Accuracy, F1 Score and ROC AUC Score for each model and vectorizer method (with train and test data vectorized by train answer)"
        }
       },
       "config": {
        "plotlyServerURL": "https://plot.ly"
       }
      },
      "text/html": "<div>                            <div id=\"9cf0ccef-6ff8-4750-a41d-d05c0340725f\" class=\"plotly-graph-div\" style=\"height:525px; width:100%;\"></div>            <script type=\"text/javascript\">                require([\"plotly\"], function(Plotly) {                    window.PLOTLYENV=window.PLOTLYENV || {};                                    if (document.getElementById(\"9cf0ccef-6ff8-4750-a41d-d05c0340725f\")) {                    Plotly.newPlot(                        \"9cf0ccef-6ff8-4750-a41d-d05c0340725f\",                        [{\"name\":\"Accuracy\",\"orientation\":\"h\",\"x\":[0.8135245901639344,0.805327868852459,0.7991803278688525,0.7889344262295082,0.7848360655737705,0.7848360655737705,0.7766393442622951,0.764344262295082,0.764344262295082,0.764344262295082,0.764344262295082,0.7581967213114754,0.7438524590163934,0.7438524590163934,0.735655737704918,0.7131147540983607,0.7131147540983607,0.5573770491803278],\"y\":[\"svm_tfidf\",\"svm_hash\",\"logistic_tfidf\",\"svm_count\",\"logistic_hash\",\"xgboost_hash\",\"xgboost_count\",\"logistic_count\",\"random_forest_count\",\"random_forest_tfidf\",\"random_forest_hash\",\"xgboost_tfidf\",\"decision_tree_tfidf\",\"decision_tree_count\",\"knn_count\",\"knn_hash\",\"decision_tree_hash\",\"knn_tfidf\"],\"type\":\"bar\"},{\"name\":\"F1 Score\",\"orientation\":\"h\",\"x\":[0.8894289185905225,0.8862275449101795,0.8793103448275862,0.8781065088757396,0.8721071863580998,0.8659003831417624,0.8635794743429286,0.8492791612057667,0.8664343786295006,0.8664343786295006,0.8664343786295006,0.8491048593350383,0.8299319727891157,0.8339973439575034,0.8268456375838926,0.8011363636363636,0.8102981029810298,0.6156583629893237],\"y\":[\"svm_tfidf\",\"svm_hash\",\"logistic_tfidf\",\"svm_count\",\"logistic_hash\",\"xgboost_hash\",\"xgboost_count\",\"logistic_count\",\"random_forest_count\",\"random_forest_tfidf\",\"random_forest_hash\",\"xgboost_tfidf\",\"decision_tree_tfidf\",\"decision_tree_count\",\"knn_count\",\"knn_hash\",\"decision_tree_hash\",\"knn_tfidf\"],\"type\":\"bar\"},{\"name\":\"ROC AUC\",\"orientation\":\"h\",\"x\":[0.6253992306795664,0.5959785522788204,0.6220305396899406,0.5581886000699382,0.5885884135680148,0.6457279403193845,0.6102925748921786,0.6473598321482691,0.5,0.5,0.5,0.6102576057815596,0.6610210980300735,0.6339550064110036,0.6346077631425574,0.6649726075300152,0.6138477678051055,0.6623382678633873],\"y\":[\"svm_tfidf\",\"svm_hash\",\"logistic_tfidf\",\"svm_count\",\"logistic_hash\",\"xgboost_hash\",\"xgboost_count\",\"logistic_count\",\"random_forest_count\",\"random_forest_tfidf\",\"random_forest_hash\",\"xgboost_tfidf\",\"decision_tree_tfidf\",\"decision_tree_count\",\"knn_count\",\"knn_hash\",\"decision_tree_hash\",\"knn_tfidf\"],\"type\":\"bar\"}],                        {\"template\":{\"data\":{\"histogram2dcontour\":[{\"type\":\"histogram2dcontour\",\"colorbar\":{\"outlinewidth\":0,\"ticks\":\"\"},\"colorscale\":[[0.0,\"#0d0887\"],[0.1111111111111111,\"#46039f\"],[0.2222222222222222,\"#7201a8\"],[0.3333333333333333,\"#9c179e\"],[0.4444444444444444,\"#bd3786\"],[0.5555555555555556,\"#d8576b\"],[0.6666666666666666,\"#ed7953\"],[0.7777777777777778,\"#fb9f3a\"],[0.8888888888888888,\"#fdca26\"],[1.0,\"#f0f921\"]]}],\"choropleth\":[{\"type\":\"choropleth\",\"colorbar\":{\"outlinewidth\":0,\"ticks\":\"\"}}],\"histogram2d\":[{\"type\":\"histogram2d\",\"colorbar\":{\"outlinewidth\":0,\"ticks\":\"\"},\"colorscale\":[[0.0,\"#0d0887\"],[0.1111111111111111,\"#46039f\"],[0.2222222222222222,\"#7201a8\"],[0.3333333333333333,\"#9c179e\"],[0.4444444444444444,\"#bd3786\"],[0.5555555555555556,\"#d8576b\"],[0.6666666666666666,\"#ed7953\"],[0.7777777777777778,\"#fb9f3a\"],[0.8888888888888888,\"#fdca26\"],[1.0,\"#f0f921\"]]}],\"heatmap\":[{\"type\":\"heatmap\",\"colorbar\":{\"outlinewidth\":0,\"ticks\":\"\"},\"colorscale\":[[0.0,\"#0d0887\"],[0.1111111111111111,\"#46039f\"],[0.2222222222222222,\"#7201a8\"],[0.3333333333333333,\"#9c179e\"],[0.4444444444444444,\"#bd3786\"],[0.5555555555555556,\"#d8576b\"],[0.6666666666666666,\"#ed7953\"],[0.7777777777777778,\"#fb9f3a\"],[0.8888888888888888,\"#fdca26\"],[1.0,\"#f0f921\"]]}],\"heatmapgl\":[{\"type\":\"heatmapgl\",\"colorbar\":{\"outlinewidth\":0,\"ticks\":\"\"},\"colorscale\":[[0.0,\"#0d0887\"],[0.1111111111111111,\"#46039f\"],[0.2222222222222222,\"#7201a8\"],[0.3333333333333333,\"#9c179e\"],[0.4444444444444444,\"#bd3786\"],[0.5555555555555556,\"#d8576b\"],[0.6666666666666666,\"#ed7953\"],[0.7777777777777778,\"#fb9f3a\"],[0.8888888888888888,\"#fdca26\"],[1.0,\"#f0f921\"]]}],\"contourcarpet\":[{\"type\":\"contourcarpet\",\"colorbar\":{\"outlinewidth\":0,\"ticks\":\"\"}}],\"contour\":[{\"type\":\"contour\",\"colorbar\":{\"outlinewidth\":0,\"ticks\":\"\"},\"colorscale\":[[0.0,\"#0d0887\"],[0.1111111111111111,\"#46039f\"],[0.2222222222222222,\"#7201a8\"],[0.3333333333333333,\"#9c179e\"],[0.4444444444444444,\"#bd3786\"],[0.5555555555555556,\"#d8576b\"],[0.6666666666666666,\"#ed7953\"],[0.7777777777777778,\"#fb9f3a\"],[0.8888888888888888,\"#fdca26\"],[1.0,\"#f0f921\"]]}],\"surface\":[{\"type\":\"surface\",\"colorbar\":{\"outlinewidth\":0,\"ticks\":\"\"},\"colorscale\":[[0.0,\"#0d0887\"],[0.1111111111111111,\"#46039f\"],[0.2222222222222222,\"#7201a8\"],[0.3333333333333333,\"#9c179e\"],[0.4444444444444444,\"#bd3786\"],[0.5555555555555556,\"#d8576b\"],[0.6666666666666666,\"#ed7953\"],[0.7777777777777778,\"#fb9f3a\"],[0.8888888888888888,\"#fdca26\"],[1.0,\"#f0f921\"]]}],\"mesh3d\":[{\"type\":\"mesh3d\",\"colorbar\":{\"outlinewidth\":0,\"ticks\":\"\"}}],\"scatter\":[{\"marker\":{\"line\":{\"color\":\"#283442\"}},\"type\":\"scatter\"}],\"parcoords\":[{\"type\":\"parcoords\",\"line\":{\"colorbar\":{\"outlinewidth\":0,\"ticks\":\"\"}}}],\"scatterpolargl\":[{\"type\":\"scatterpolargl\",\"marker\":{\"colorbar\":{\"outlinewidth\":0,\"ticks\":\"\"}}}],\"bar\":[{\"error_x\":{\"color\":\"#f2f5fa\"},\"error_y\":{\"color\":\"#f2f5fa\"},\"marker\":{\"line\":{\"color\":\"rgb(17,17,17)\",\"width\":0.5},\"pattern\":{\"fillmode\":\"overlay\",\"size\":10,\"solidity\":0.2}},\"type\":\"bar\"}],\"scattergeo\":[{\"type\":\"scattergeo\",\"marker\":{\"colorbar\":{\"outlinewidth\":0,\"ticks\":\"\"}}}],\"scatterpolar\":[{\"type\":\"scatterpolar\",\"marker\":{\"colorbar\":{\"outlinewidth\":0,\"ticks\":\"\"}}}],\"histogram\":[{\"marker\":{\"pattern\":{\"fillmode\":\"overlay\",\"size\":10,\"solidity\":0.2}},\"type\":\"histogram\"}],\"scattergl\":[{\"marker\":{\"line\":{\"color\":\"#283442\"}},\"type\":\"scattergl\"}],\"scatter3d\":[{\"type\":\"scatter3d\",\"line\":{\"colorbar\":{\"outlinewidth\":0,\"ticks\":\"\"}},\"marker\":{\"colorbar\":{\"outlinewidth\":0,\"ticks\":\"\"}}}],\"scattermapbox\":[{\"type\":\"scattermapbox\",\"marker\":{\"colorbar\":{\"outlinewidth\":0,\"ticks\":\"\"}}}],\"scatterternary\":[{\"type\":\"scatterternary\",\"marker\":{\"colorbar\":{\"outlinewidth\":0,\"ticks\":\"\"}}}],\"scattercarpet\":[{\"type\":\"scattercarpet\",\"marker\":{\"colorbar\":{\"outlinewidth\":0,\"ticks\":\"\"}}}],\"carpet\":[{\"aaxis\":{\"endlinecolor\":\"#A2B1C6\",\"gridcolor\":\"#506784\",\"linecolor\":\"#506784\",\"minorgridcolor\":\"#506784\",\"startlinecolor\":\"#A2B1C6\"},\"baxis\":{\"endlinecolor\":\"#A2B1C6\",\"gridcolor\":\"#506784\",\"linecolor\":\"#506784\",\"minorgridcolor\":\"#506784\",\"startlinecolor\":\"#A2B1C6\"},\"type\":\"carpet\"}],\"table\":[{\"cells\":{\"fill\":{\"color\":\"#506784\"},\"line\":{\"color\":\"rgb(17,17,17)\"}},\"header\":{\"fill\":{\"color\":\"#2a3f5f\"},\"line\":{\"color\":\"rgb(17,17,17)\"}},\"type\":\"table\"}],\"barpolar\":[{\"marker\":{\"line\":{\"color\":\"rgb(17,17,17)\",\"width\":0.5},\"pattern\":{\"fillmode\":\"overlay\",\"size\":10,\"solidity\":0.2}},\"type\":\"barpolar\"}],\"pie\":[{\"automargin\":true,\"type\":\"pie\"}]},\"layout\":{\"autotypenumbers\":\"strict\",\"colorway\":[\"#636efa\",\"#EF553B\",\"#00cc96\",\"#ab63fa\",\"#FFA15A\",\"#19d3f3\",\"#FF6692\",\"#B6E880\",\"#FF97FF\",\"#FECB52\"],\"font\":{\"color\":\"#f2f5fa\"},\"hovermode\":\"closest\",\"hoverlabel\":{\"align\":\"left\"},\"paper_bgcolor\":\"rgb(17,17,17)\",\"plot_bgcolor\":\"rgb(17,17,17)\",\"polar\":{\"bgcolor\":\"rgb(17,17,17)\",\"angularaxis\":{\"gridcolor\":\"#506784\",\"linecolor\":\"#506784\",\"ticks\":\"\"},\"radialaxis\":{\"gridcolor\":\"#506784\",\"linecolor\":\"#506784\",\"ticks\":\"\"}},\"ternary\":{\"bgcolor\":\"rgb(17,17,17)\",\"aaxis\":{\"gridcolor\":\"#506784\",\"linecolor\":\"#506784\",\"ticks\":\"\"},\"baxis\":{\"gridcolor\":\"#506784\",\"linecolor\":\"#506784\",\"ticks\":\"\"},\"caxis\":{\"gridcolor\":\"#506784\",\"linecolor\":\"#506784\",\"ticks\":\"\"}},\"coloraxis\":{\"colorbar\":{\"outlinewidth\":0,\"ticks\":\"\"}},\"colorscale\":{\"sequential\":[[0.0,\"#0d0887\"],[0.1111111111111111,\"#46039f\"],[0.2222222222222222,\"#7201a8\"],[0.3333333333333333,\"#9c179e\"],[0.4444444444444444,\"#bd3786\"],[0.5555555555555556,\"#d8576b\"],[0.6666666666666666,\"#ed7953\"],[0.7777777777777778,\"#fb9f3a\"],[0.8888888888888888,\"#fdca26\"],[1.0,\"#f0f921\"]],\"sequentialminus\":[[0.0,\"#0d0887\"],[0.1111111111111111,\"#46039f\"],[0.2222222222222222,\"#7201a8\"],[0.3333333333333333,\"#9c179e\"],[0.4444444444444444,\"#bd3786\"],[0.5555555555555556,\"#d8576b\"],[0.6666666666666666,\"#ed7953\"],[0.7777777777777778,\"#fb9f3a\"],[0.8888888888888888,\"#fdca26\"],[1.0,\"#f0f921\"]],\"diverging\":[[0,\"#8e0152\"],[0.1,\"#c51b7d\"],[0.2,\"#de77ae\"],[0.3,\"#f1b6da\"],[0.4,\"#fde0ef\"],[0.5,\"#f7f7f7\"],[0.6,\"#e6f5d0\"],[0.7,\"#b8e186\"],[0.8,\"#7fbc41\"],[0.9,\"#4d9221\"],[1,\"#276419\"]]},\"xaxis\":{\"gridcolor\":\"#283442\",\"linecolor\":\"#506784\",\"ticks\":\"\",\"title\":{\"standoff\":15},\"zerolinecolor\":\"#283442\",\"automargin\":true,\"zerolinewidth\":2},\"yaxis\":{\"gridcolor\":\"#283442\",\"linecolor\":\"#506784\",\"ticks\":\"\",\"title\":{\"standoff\":15},\"zerolinecolor\":\"#283442\",\"automargin\":true,\"zerolinewidth\":2},\"scene\":{\"xaxis\":{\"backgroundcolor\":\"rgb(17,17,17)\",\"gridcolor\":\"#506784\",\"linecolor\":\"#506784\",\"showbackground\":true,\"ticks\":\"\",\"zerolinecolor\":\"#C8D4E3\",\"gridwidth\":2},\"yaxis\":{\"backgroundcolor\":\"rgb(17,17,17)\",\"gridcolor\":\"#506784\",\"linecolor\":\"#506784\",\"showbackground\":true,\"ticks\":\"\",\"zerolinecolor\":\"#C8D4E3\",\"gridwidth\":2},\"zaxis\":{\"backgroundcolor\":\"rgb(17,17,17)\",\"gridcolor\":\"#506784\",\"linecolor\":\"#506784\",\"showbackground\":true,\"ticks\":\"\",\"zerolinecolor\":\"#C8D4E3\",\"gridwidth\":2}},\"shapedefaults\":{\"line\":{\"color\":\"#f2f5fa\"}},\"annotationdefaults\":{\"arrowcolor\":\"#f2f5fa\",\"arrowhead\":0,\"arrowwidth\":1},\"geo\":{\"bgcolor\":\"rgb(17,17,17)\",\"landcolor\":\"rgb(17,17,17)\",\"subunitcolor\":\"#506784\",\"showland\":true,\"showlakes\":true,\"lakecolor\":\"rgb(17,17,17)\"},\"title\":{\"x\":0.05},\"updatemenudefaults\":{\"bgcolor\":\"#506784\",\"borderwidth\":0},\"sliderdefaults\":{\"bgcolor\":\"#C8D4E3\",\"borderwidth\":1,\"bordercolor\":\"rgb(17,17,17)\",\"tickwidth\":0},\"mapbox\":{\"style\":\"dark\"}}},\"barmode\":\"group\",\"title\":{\"text\":\"Accuracy, F1 Score and ROC AUC Score for each model and vectorizer method (with train and test data vectorized by train answer)\"}},                        {\"responsive\": true}                    ).then(function(){\n                            \nvar gd = document.getElementById('9cf0ccef-6ff8-4750-a41d-d05c0340725f');\nvar x = new MutationObserver(function (mutations, observer) {{\n        var display = window.getComputedStyle(gd).display;\n        if (!display || display === 'none') {{\n            console.log([gd, 'removed!']);\n            Plotly.purge(gd);\n            observer.disconnect();\n        }}\n}});\n\n// Listen for the removal of the full notebook cells\nvar notebookContainer = gd.closest('#notebook-container');\nif (notebookContainer) {{\n    x.observe(notebookContainer, {childList: true});\n}}\n\n// Listen for the clearing of the current output cell\nvar outputEl = gd.closest('.output');\nif (outputEl) {{\n    x.observe(outputEl, {childList: true});\n}}\n\n                        })                };                });            </script>        </div>"
     },
     "metadata": {},
     "output_type": "display_data"
    }
   ],
   "source": [
    "# plot all results (accuracy, f1, roc_auc) with a horizontal bar chart in plotly\n",
    "\n",
    "import plotly.graph_objects as go\n",
    "\n",
    "results_df = results_df.sort_values(by=['accuracy'], ascending=False)\n",
    "title = f'Accuracy, F1 Score and ROC AUC Score for each model and vectorizer method (with train and test data vectorized by {\"train reference answer\" if VECTORIZER_BY_REFERENCE else \"train answer\"})'\n",
    "fig = go.Figure(data=[\n",
    "    go.Bar(name='Accuracy', x=results_df['accuracy'], y=results_df.index, orientation='h'),\n",
    "    go.Bar(name='F1 Score', x=results_df['f1_score'], y=results_df.index, orientation='h'),\n",
    "    go.Bar(name='ROC AUC', x=results_df['roc_auc_score'], y=results_df.index, orientation='h')\n",
    "])\n",
    "fig.update_layout(barmode='group', title=title)\n",
    "fig.show()\n"
   ],
   "metadata": {
    "collapsed": false,
    "pycharm": {
     "name": "#%%\n"
    }
   }
  },
  {
   "cell_type": "code",
   "execution_count": 112,
   "outputs": [
    {
     "data": {
      "application/vnd.plotly.v1+json": {
       "data": [
        {
         "name": "Accuracy",
         "orientation": "h",
         "x": [
          0.8214285714285714,
          0.7857142857142857,
          0.7857142857142857,
          0.7857142857142857,
          0.75,
          0.7142857142857143,
          0.7142857142857143,
          0.7142857142857143,
          0.6785714285714286,
          0.6785714285714286,
          0.6785714285714286,
          0.6785714285714286,
          0.6428571428571429,
          0.6428571428571429,
          0.6428571428571429,
          0.6071428571428571,
          0.5714285714285714,
          0.5357142857142857
         ],
         "y": [
          "xgboost_hash",
          "decision_tree_hash",
          "xgboost_tfidf",
          "svm_tfidf",
          "xgboost_count",
          "logistic_hash",
          "logistic_count",
          "svm_hash",
          "knn_hash",
          "decision_tree_tfidf",
          "svm_count",
          "decision_tree_count",
          "logistic_tfidf",
          "random_forest_count",
          "random_forest_tfidf",
          "random_forest_hash",
          "knn_count",
          "knn_tfidf"
         ],
         "type": "bar"
        },
        {
         "name": "F1 Score",
         "orientation": "h",
         "x": [
          0.7058823529411764,
          0.6666666666666665,
          0.625,
          0.625,
          0.5882352941176471,
          0.42857142857142855,
          0.42857142857142855,
          0.42857142857142855,
          0.5263157894736842,
          0.6086956521739131,
          0.3076923076923077,
          0.39999999999999997,
          0.16666666666666669,
          0.16666666666666669,
          0.16666666666666669,
          0.0,
          0.39999999999999997,
          0.43478260869565216
         ],
         "y": [
          "xgboost_hash",
          "decision_tree_hash",
          "xgboost_tfidf",
          "svm_tfidf",
          "xgboost_count",
          "logistic_hash",
          "logistic_count",
          "svm_hash",
          "knn_hash",
          "decision_tree_tfidf",
          "svm_count",
          "decision_tree_count",
          "logistic_tfidf",
          "random_forest_count",
          "random_forest_tfidf",
          "random_forest_hash",
          "knn_count",
          "knn_tfidf"
         ],
         "type": "bar"
        },
        {
         "name": "ROC AUC",
         "orientation": "h",
         "x": [
          0.7727272727272727,
          0.7433155080213903,
          0.7272727272727273,
          0.7272727272727273,
          0.6978609625668449,
          0.6363636363636364,
          0.6363636363636364,
          0.6363636363636364,
          0.6390374331550802,
          0.6711229946524063,
          0.5909090909090909,
          0.606951871657754,
          0.5454545454545454,
          0.5454545454545454,
          0.5454545454545454,
          0.5,
          0.5347593582887701,
          0.5213903743315509
         ],
         "y": [
          "xgboost_hash",
          "decision_tree_hash",
          "xgboost_tfidf",
          "svm_tfidf",
          "xgboost_count",
          "logistic_hash",
          "logistic_count",
          "svm_hash",
          "knn_hash",
          "decision_tree_tfidf",
          "svm_count",
          "decision_tree_count",
          "logistic_tfidf",
          "random_forest_count",
          "random_forest_tfidf",
          "random_forest_hash",
          "knn_count",
          "knn_tfidf"
         ],
         "type": "bar"
        }
       ],
       "layout": {
        "template": {
         "data": {
          "histogram2dcontour": [
           {
            "type": "histogram2dcontour",
            "colorbar": {
             "outlinewidth": 0,
             "ticks": ""
            },
            "colorscale": [
             [
              0.0,
              "#0d0887"
             ],
             [
              0.1111111111111111,
              "#46039f"
             ],
             [
              0.2222222222222222,
              "#7201a8"
             ],
             [
              0.3333333333333333,
              "#9c179e"
             ],
             [
              0.4444444444444444,
              "#bd3786"
             ],
             [
              0.5555555555555556,
              "#d8576b"
             ],
             [
              0.6666666666666666,
              "#ed7953"
             ],
             [
              0.7777777777777778,
              "#fb9f3a"
             ],
             [
              0.8888888888888888,
              "#fdca26"
             ],
             [
              1.0,
              "#f0f921"
             ]
            ]
           }
          ],
          "choropleth": [
           {
            "type": "choropleth",
            "colorbar": {
             "outlinewidth": 0,
             "ticks": ""
            }
           }
          ],
          "histogram2d": [
           {
            "type": "histogram2d",
            "colorbar": {
             "outlinewidth": 0,
             "ticks": ""
            },
            "colorscale": [
             [
              0.0,
              "#0d0887"
             ],
             [
              0.1111111111111111,
              "#46039f"
             ],
             [
              0.2222222222222222,
              "#7201a8"
             ],
             [
              0.3333333333333333,
              "#9c179e"
             ],
             [
              0.4444444444444444,
              "#bd3786"
             ],
             [
              0.5555555555555556,
              "#d8576b"
             ],
             [
              0.6666666666666666,
              "#ed7953"
             ],
             [
              0.7777777777777778,
              "#fb9f3a"
             ],
             [
              0.8888888888888888,
              "#fdca26"
             ],
             [
              1.0,
              "#f0f921"
             ]
            ]
           }
          ],
          "heatmap": [
           {
            "type": "heatmap",
            "colorbar": {
             "outlinewidth": 0,
             "ticks": ""
            },
            "colorscale": [
             [
              0.0,
              "#0d0887"
             ],
             [
              0.1111111111111111,
              "#46039f"
             ],
             [
              0.2222222222222222,
              "#7201a8"
             ],
             [
              0.3333333333333333,
              "#9c179e"
             ],
             [
              0.4444444444444444,
              "#bd3786"
             ],
             [
              0.5555555555555556,
              "#d8576b"
             ],
             [
              0.6666666666666666,
              "#ed7953"
             ],
             [
              0.7777777777777778,
              "#fb9f3a"
             ],
             [
              0.8888888888888888,
              "#fdca26"
             ],
             [
              1.0,
              "#f0f921"
             ]
            ]
           }
          ],
          "heatmapgl": [
           {
            "type": "heatmapgl",
            "colorbar": {
             "outlinewidth": 0,
             "ticks": ""
            },
            "colorscale": [
             [
              0.0,
              "#0d0887"
             ],
             [
              0.1111111111111111,
              "#46039f"
             ],
             [
              0.2222222222222222,
              "#7201a8"
             ],
             [
              0.3333333333333333,
              "#9c179e"
             ],
             [
              0.4444444444444444,
              "#bd3786"
             ],
             [
              0.5555555555555556,
              "#d8576b"
             ],
             [
              0.6666666666666666,
              "#ed7953"
             ],
             [
              0.7777777777777778,
              "#fb9f3a"
             ],
             [
              0.8888888888888888,
              "#fdca26"
             ],
             [
              1.0,
              "#f0f921"
             ]
            ]
           }
          ],
          "contourcarpet": [
           {
            "type": "contourcarpet",
            "colorbar": {
             "outlinewidth": 0,
             "ticks": ""
            }
           }
          ],
          "contour": [
           {
            "type": "contour",
            "colorbar": {
             "outlinewidth": 0,
             "ticks": ""
            },
            "colorscale": [
             [
              0.0,
              "#0d0887"
             ],
             [
              0.1111111111111111,
              "#46039f"
             ],
             [
              0.2222222222222222,
              "#7201a8"
             ],
             [
              0.3333333333333333,
              "#9c179e"
             ],
             [
              0.4444444444444444,
              "#bd3786"
             ],
             [
              0.5555555555555556,
              "#d8576b"
             ],
             [
              0.6666666666666666,
              "#ed7953"
             ],
             [
              0.7777777777777778,
              "#fb9f3a"
             ],
             [
              0.8888888888888888,
              "#fdca26"
             ],
             [
              1.0,
              "#f0f921"
             ]
            ]
           }
          ],
          "surface": [
           {
            "type": "surface",
            "colorbar": {
             "outlinewidth": 0,
             "ticks": ""
            },
            "colorscale": [
             [
              0.0,
              "#0d0887"
             ],
             [
              0.1111111111111111,
              "#46039f"
             ],
             [
              0.2222222222222222,
              "#7201a8"
             ],
             [
              0.3333333333333333,
              "#9c179e"
             ],
             [
              0.4444444444444444,
              "#bd3786"
             ],
             [
              0.5555555555555556,
              "#d8576b"
             ],
             [
              0.6666666666666666,
              "#ed7953"
             ],
             [
              0.7777777777777778,
              "#fb9f3a"
             ],
             [
              0.8888888888888888,
              "#fdca26"
             ],
             [
              1.0,
              "#f0f921"
             ]
            ]
           }
          ],
          "mesh3d": [
           {
            "type": "mesh3d",
            "colorbar": {
             "outlinewidth": 0,
             "ticks": ""
            }
           }
          ],
          "scatter": [
           {
            "marker": {
             "line": {
              "color": "#283442"
             }
            },
            "type": "scatter"
           }
          ],
          "parcoords": [
           {
            "type": "parcoords",
            "line": {
             "colorbar": {
              "outlinewidth": 0,
              "ticks": ""
             }
            }
           }
          ],
          "scatterpolargl": [
           {
            "type": "scatterpolargl",
            "marker": {
             "colorbar": {
              "outlinewidth": 0,
              "ticks": ""
             }
            }
           }
          ],
          "bar": [
           {
            "error_x": {
             "color": "#f2f5fa"
            },
            "error_y": {
             "color": "#f2f5fa"
            },
            "marker": {
             "line": {
              "color": "rgb(17,17,17)",
              "width": 0.5
             },
             "pattern": {
              "fillmode": "overlay",
              "size": 10,
              "solidity": 0.2
             }
            },
            "type": "bar"
           }
          ],
          "scattergeo": [
           {
            "type": "scattergeo",
            "marker": {
             "colorbar": {
              "outlinewidth": 0,
              "ticks": ""
             }
            }
           }
          ],
          "scatterpolar": [
           {
            "type": "scatterpolar",
            "marker": {
             "colorbar": {
              "outlinewidth": 0,
              "ticks": ""
             }
            }
           }
          ],
          "histogram": [
           {
            "marker": {
             "pattern": {
              "fillmode": "overlay",
              "size": 10,
              "solidity": 0.2
             }
            },
            "type": "histogram"
           }
          ],
          "scattergl": [
           {
            "marker": {
             "line": {
              "color": "#283442"
             }
            },
            "type": "scattergl"
           }
          ],
          "scatter3d": [
           {
            "type": "scatter3d",
            "line": {
             "colorbar": {
              "outlinewidth": 0,
              "ticks": ""
             }
            },
            "marker": {
             "colorbar": {
              "outlinewidth": 0,
              "ticks": ""
             }
            }
           }
          ],
          "scattermapbox": [
           {
            "type": "scattermapbox",
            "marker": {
             "colorbar": {
              "outlinewidth": 0,
              "ticks": ""
             }
            }
           }
          ],
          "scatterternary": [
           {
            "type": "scatterternary",
            "marker": {
             "colorbar": {
              "outlinewidth": 0,
              "ticks": ""
             }
            }
           }
          ],
          "scattercarpet": [
           {
            "type": "scattercarpet",
            "marker": {
             "colorbar": {
              "outlinewidth": 0,
              "ticks": ""
             }
            }
           }
          ],
          "carpet": [
           {
            "aaxis": {
             "endlinecolor": "#A2B1C6",
             "gridcolor": "#506784",
             "linecolor": "#506784",
             "minorgridcolor": "#506784",
             "startlinecolor": "#A2B1C6"
            },
            "baxis": {
             "endlinecolor": "#A2B1C6",
             "gridcolor": "#506784",
             "linecolor": "#506784",
             "minorgridcolor": "#506784",
             "startlinecolor": "#A2B1C6"
            },
            "type": "carpet"
           }
          ],
          "table": [
           {
            "cells": {
             "fill": {
              "color": "#506784"
             },
             "line": {
              "color": "rgb(17,17,17)"
             }
            },
            "header": {
             "fill": {
              "color": "#2a3f5f"
             },
             "line": {
              "color": "rgb(17,17,17)"
             }
            },
            "type": "table"
           }
          ],
          "barpolar": [
           {
            "marker": {
             "line": {
              "color": "rgb(17,17,17)",
              "width": 0.5
             },
             "pattern": {
              "fillmode": "overlay",
              "size": 10,
              "solidity": 0.2
             }
            },
            "type": "barpolar"
           }
          ],
          "pie": [
           {
            "automargin": true,
            "type": "pie"
           }
          ]
         },
         "layout": {
          "autotypenumbers": "strict",
          "colorway": [
           "#636efa",
           "#EF553B",
           "#00cc96",
           "#ab63fa",
           "#FFA15A",
           "#19d3f3",
           "#FF6692",
           "#B6E880",
           "#FF97FF",
           "#FECB52"
          ],
          "font": {
           "color": "#f2f5fa"
          },
          "hovermode": "closest",
          "hoverlabel": {
           "align": "left"
          },
          "paper_bgcolor": "rgb(17,17,17)",
          "plot_bgcolor": "rgb(17,17,17)",
          "polar": {
           "bgcolor": "rgb(17,17,17)",
           "angularaxis": {
            "gridcolor": "#506784",
            "linecolor": "#506784",
            "ticks": ""
           },
           "radialaxis": {
            "gridcolor": "#506784",
            "linecolor": "#506784",
            "ticks": ""
           }
          },
          "ternary": {
           "bgcolor": "rgb(17,17,17)",
           "aaxis": {
            "gridcolor": "#506784",
            "linecolor": "#506784",
            "ticks": ""
           },
           "baxis": {
            "gridcolor": "#506784",
            "linecolor": "#506784",
            "ticks": ""
           },
           "caxis": {
            "gridcolor": "#506784",
            "linecolor": "#506784",
            "ticks": ""
           }
          },
          "coloraxis": {
           "colorbar": {
            "outlinewidth": 0,
            "ticks": ""
           }
          },
          "colorscale": {
           "sequential": [
            [
             0.0,
             "#0d0887"
            ],
            [
             0.1111111111111111,
             "#46039f"
            ],
            [
             0.2222222222222222,
             "#7201a8"
            ],
            [
             0.3333333333333333,
             "#9c179e"
            ],
            [
             0.4444444444444444,
             "#bd3786"
            ],
            [
             0.5555555555555556,
             "#d8576b"
            ],
            [
             0.6666666666666666,
             "#ed7953"
            ],
            [
             0.7777777777777778,
             "#fb9f3a"
            ],
            [
             0.8888888888888888,
             "#fdca26"
            ],
            [
             1.0,
             "#f0f921"
            ]
           ],
           "sequentialminus": [
            [
             0.0,
             "#0d0887"
            ],
            [
             0.1111111111111111,
             "#46039f"
            ],
            [
             0.2222222222222222,
             "#7201a8"
            ],
            [
             0.3333333333333333,
             "#9c179e"
            ],
            [
             0.4444444444444444,
             "#bd3786"
            ],
            [
             0.5555555555555556,
             "#d8576b"
            ],
            [
             0.6666666666666666,
             "#ed7953"
            ],
            [
             0.7777777777777778,
             "#fb9f3a"
            ],
            [
             0.8888888888888888,
             "#fdca26"
            ],
            [
             1.0,
             "#f0f921"
            ]
           ],
           "diverging": [
            [
             0,
             "#8e0152"
            ],
            [
             0.1,
             "#c51b7d"
            ],
            [
             0.2,
             "#de77ae"
            ],
            [
             0.3,
             "#f1b6da"
            ],
            [
             0.4,
             "#fde0ef"
            ],
            [
             0.5,
             "#f7f7f7"
            ],
            [
             0.6,
             "#e6f5d0"
            ],
            [
             0.7,
             "#b8e186"
            ],
            [
             0.8,
             "#7fbc41"
            ],
            [
             0.9,
             "#4d9221"
            ],
            [
             1,
             "#276419"
            ]
           ]
          },
          "xaxis": {
           "gridcolor": "#283442",
           "linecolor": "#506784",
           "ticks": "",
           "title": {
            "standoff": 15
           },
           "zerolinecolor": "#283442",
           "automargin": true,
           "zerolinewidth": 2
          },
          "yaxis": {
           "gridcolor": "#283442",
           "linecolor": "#506784",
           "ticks": "",
           "title": {
            "standoff": 15
           },
           "zerolinecolor": "#283442",
           "automargin": true,
           "zerolinewidth": 2
          },
          "scene": {
           "xaxis": {
            "backgroundcolor": "rgb(17,17,17)",
            "gridcolor": "#506784",
            "linecolor": "#506784",
            "showbackground": true,
            "ticks": "",
            "zerolinecolor": "#C8D4E3",
            "gridwidth": 2
           },
           "yaxis": {
            "backgroundcolor": "rgb(17,17,17)",
            "gridcolor": "#506784",
            "linecolor": "#506784",
            "showbackground": true,
            "ticks": "",
            "zerolinecolor": "#C8D4E3",
            "gridwidth": 2
           },
           "zaxis": {
            "backgroundcolor": "rgb(17,17,17)",
            "gridcolor": "#506784",
            "linecolor": "#506784",
            "showbackground": true,
            "ticks": "",
            "zerolinecolor": "#C8D4E3",
            "gridwidth": 2
           }
          },
          "shapedefaults": {
           "line": {
            "color": "#f2f5fa"
           }
          },
          "annotationdefaults": {
           "arrowcolor": "#f2f5fa",
           "arrowhead": 0,
           "arrowwidth": 1
          },
          "geo": {
           "bgcolor": "rgb(17,17,17)",
           "landcolor": "rgb(17,17,17)",
           "subunitcolor": "#506784",
           "showland": true,
           "showlakes": true,
           "lakecolor": "rgb(17,17,17)"
          },
          "title": {
           "x": 0.05
          },
          "updatemenudefaults": {
           "bgcolor": "#506784",
           "borderwidth": 0
          },
          "sliderdefaults": {
           "bgcolor": "#C8D4E3",
           "borderwidth": 1,
           "bordercolor": "rgb(17,17,17)",
           "tickwidth": 0
          },
          "mapbox": {
           "style": "dark"
          }
         }
        },
        "barmode": "group",
        "title": {
         "text": "Accuracy, F1 Score and ROC AUC Score for each model and vectorizer method (with train and test data vectorized by train reference answer)"
        }
       },
       "config": {
        "plotlyServerURL": "https://plot.ly"
       }
      },
      "text/html": "<div>                            <div id=\"d94a1cc1-bec4-4333-af09-cd219196ab63\" class=\"plotly-graph-div\" style=\"height:525px; width:100%;\"></div>            <script type=\"text/javascript\">                require([\"plotly\"], function(Plotly) {                    window.PLOTLYENV=window.PLOTLYENV || {};                                    if (document.getElementById(\"d94a1cc1-bec4-4333-af09-cd219196ab63\")) {                    Plotly.newPlot(                        \"d94a1cc1-bec4-4333-af09-cd219196ab63\",                        [{\"name\":\"Accuracy\",\"orientation\":\"h\",\"x\":[0.8214285714285714,0.7857142857142857,0.7857142857142857,0.7857142857142857,0.75,0.7142857142857143,0.7142857142857143,0.7142857142857143,0.6785714285714286,0.6785714285714286,0.6785714285714286,0.6785714285714286,0.6428571428571429,0.6428571428571429,0.6428571428571429,0.6071428571428571,0.5714285714285714,0.5357142857142857],\"y\":[\"xgboost_hash\",\"decision_tree_hash\",\"xgboost_tfidf\",\"svm_tfidf\",\"xgboost_count\",\"logistic_hash\",\"logistic_count\",\"svm_hash\",\"knn_hash\",\"decision_tree_tfidf\",\"svm_count\",\"decision_tree_count\",\"logistic_tfidf\",\"random_forest_count\",\"random_forest_tfidf\",\"random_forest_hash\",\"knn_count\",\"knn_tfidf\"],\"type\":\"bar\"},{\"name\":\"F1 Score\",\"orientation\":\"h\",\"x\":[0.7058823529411764,0.6666666666666665,0.625,0.625,0.5882352941176471,0.42857142857142855,0.42857142857142855,0.42857142857142855,0.5263157894736842,0.6086956521739131,0.3076923076923077,0.39999999999999997,0.16666666666666669,0.16666666666666669,0.16666666666666669,0.0,0.39999999999999997,0.43478260869565216],\"y\":[\"xgboost_hash\",\"decision_tree_hash\",\"xgboost_tfidf\",\"svm_tfidf\",\"xgboost_count\",\"logistic_hash\",\"logistic_count\",\"svm_hash\",\"knn_hash\",\"decision_tree_tfidf\",\"svm_count\",\"decision_tree_count\",\"logistic_tfidf\",\"random_forest_count\",\"random_forest_tfidf\",\"random_forest_hash\",\"knn_count\",\"knn_tfidf\"],\"type\":\"bar\"},{\"name\":\"ROC AUC\",\"orientation\":\"h\",\"x\":[0.7727272727272727,0.7433155080213903,0.7272727272727273,0.7272727272727273,0.6978609625668449,0.6363636363636364,0.6363636363636364,0.6363636363636364,0.6390374331550802,0.6711229946524063,0.5909090909090909,0.606951871657754,0.5454545454545454,0.5454545454545454,0.5454545454545454,0.5,0.5347593582887701,0.5213903743315509],\"y\":[\"xgboost_hash\",\"decision_tree_hash\",\"xgboost_tfidf\",\"svm_tfidf\",\"xgboost_count\",\"logistic_hash\",\"logistic_count\",\"svm_hash\",\"knn_hash\",\"decision_tree_tfidf\",\"svm_count\",\"decision_tree_count\",\"logistic_tfidf\",\"random_forest_count\",\"random_forest_tfidf\",\"random_forest_hash\",\"knn_count\",\"knn_tfidf\"],\"type\":\"bar\"}],                        {\"template\":{\"data\":{\"histogram2dcontour\":[{\"type\":\"histogram2dcontour\",\"colorbar\":{\"outlinewidth\":0,\"ticks\":\"\"},\"colorscale\":[[0.0,\"#0d0887\"],[0.1111111111111111,\"#46039f\"],[0.2222222222222222,\"#7201a8\"],[0.3333333333333333,\"#9c179e\"],[0.4444444444444444,\"#bd3786\"],[0.5555555555555556,\"#d8576b\"],[0.6666666666666666,\"#ed7953\"],[0.7777777777777778,\"#fb9f3a\"],[0.8888888888888888,\"#fdca26\"],[1.0,\"#f0f921\"]]}],\"choropleth\":[{\"type\":\"choropleth\",\"colorbar\":{\"outlinewidth\":0,\"ticks\":\"\"}}],\"histogram2d\":[{\"type\":\"histogram2d\",\"colorbar\":{\"outlinewidth\":0,\"ticks\":\"\"},\"colorscale\":[[0.0,\"#0d0887\"],[0.1111111111111111,\"#46039f\"],[0.2222222222222222,\"#7201a8\"],[0.3333333333333333,\"#9c179e\"],[0.4444444444444444,\"#bd3786\"],[0.5555555555555556,\"#d8576b\"],[0.6666666666666666,\"#ed7953\"],[0.7777777777777778,\"#fb9f3a\"],[0.8888888888888888,\"#fdca26\"],[1.0,\"#f0f921\"]]}],\"heatmap\":[{\"type\":\"heatmap\",\"colorbar\":{\"outlinewidth\":0,\"ticks\":\"\"},\"colorscale\":[[0.0,\"#0d0887\"],[0.1111111111111111,\"#46039f\"],[0.2222222222222222,\"#7201a8\"],[0.3333333333333333,\"#9c179e\"],[0.4444444444444444,\"#bd3786\"],[0.5555555555555556,\"#d8576b\"],[0.6666666666666666,\"#ed7953\"],[0.7777777777777778,\"#fb9f3a\"],[0.8888888888888888,\"#fdca26\"],[1.0,\"#f0f921\"]]}],\"heatmapgl\":[{\"type\":\"heatmapgl\",\"colorbar\":{\"outlinewidth\":0,\"ticks\":\"\"},\"colorscale\":[[0.0,\"#0d0887\"],[0.1111111111111111,\"#46039f\"],[0.2222222222222222,\"#7201a8\"],[0.3333333333333333,\"#9c179e\"],[0.4444444444444444,\"#bd3786\"],[0.5555555555555556,\"#d8576b\"],[0.6666666666666666,\"#ed7953\"],[0.7777777777777778,\"#fb9f3a\"],[0.8888888888888888,\"#fdca26\"],[1.0,\"#f0f921\"]]}],\"contourcarpet\":[{\"type\":\"contourcarpet\",\"colorbar\":{\"outlinewidth\":0,\"ticks\":\"\"}}],\"contour\":[{\"type\":\"contour\",\"colorbar\":{\"outlinewidth\":0,\"ticks\":\"\"},\"colorscale\":[[0.0,\"#0d0887\"],[0.1111111111111111,\"#46039f\"],[0.2222222222222222,\"#7201a8\"],[0.3333333333333333,\"#9c179e\"],[0.4444444444444444,\"#bd3786\"],[0.5555555555555556,\"#d8576b\"],[0.6666666666666666,\"#ed7953\"],[0.7777777777777778,\"#fb9f3a\"],[0.8888888888888888,\"#fdca26\"],[1.0,\"#f0f921\"]]}],\"surface\":[{\"type\":\"surface\",\"colorbar\":{\"outlinewidth\":0,\"ticks\":\"\"},\"colorscale\":[[0.0,\"#0d0887\"],[0.1111111111111111,\"#46039f\"],[0.2222222222222222,\"#7201a8\"],[0.3333333333333333,\"#9c179e\"],[0.4444444444444444,\"#bd3786\"],[0.5555555555555556,\"#d8576b\"],[0.6666666666666666,\"#ed7953\"],[0.7777777777777778,\"#fb9f3a\"],[0.8888888888888888,\"#fdca26\"],[1.0,\"#f0f921\"]]}],\"mesh3d\":[{\"type\":\"mesh3d\",\"colorbar\":{\"outlinewidth\":0,\"ticks\":\"\"}}],\"scatter\":[{\"marker\":{\"line\":{\"color\":\"#283442\"}},\"type\":\"scatter\"}],\"parcoords\":[{\"type\":\"parcoords\",\"line\":{\"colorbar\":{\"outlinewidth\":0,\"ticks\":\"\"}}}],\"scatterpolargl\":[{\"type\":\"scatterpolargl\",\"marker\":{\"colorbar\":{\"outlinewidth\":0,\"ticks\":\"\"}}}],\"bar\":[{\"error_x\":{\"color\":\"#f2f5fa\"},\"error_y\":{\"color\":\"#f2f5fa\"},\"marker\":{\"line\":{\"color\":\"rgb(17,17,17)\",\"width\":0.5},\"pattern\":{\"fillmode\":\"overlay\",\"size\":10,\"solidity\":0.2}},\"type\":\"bar\"}],\"scattergeo\":[{\"type\":\"scattergeo\",\"marker\":{\"colorbar\":{\"outlinewidth\":0,\"ticks\":\"\"}}}],\"scatterpolar\":[{\"type\":\"scatterpolar\",\"marker\":{\"colorbar\":{\"outlinewidth\":0,\"ticks\":\"\"}}}],\"histogram\":[{\"marker\":{\"pattern\":{\"fillmode\":\"overlay\",\"size\":10,\"solidity\":0.2}},\"type\":\"histogram\"}],\"scattergl\":[{\"marker\":{\"line\":{\"color\":\"#283442\"}},\"type\":\"scattergl\"}],\"scatter3d\":[{\"type\":\"scatter3d\",\"line\":{\"colorbar\":{\"outlinewidth\":0,\"ticks\":\"\"}},\"marker\":{\"colorbar\":{\"outlinewidth\":0,\"ticks\":\"\"}}}],\"scattermapbox\":[{\"type\":\"scattermapbox\",\"marker\":{\"colorbar\":{\"outlinewidth\":0,\"ticks\":\"\"}}}],\"scatterternary\":[{\"type\":\"scatterternary\",\"marker\":{\"colorbar\":{\"outlinewidth\":0,\"ticks\":\"\"}}}],\"scattercarpet\":[{\"type\":\"scattercarpet\",\"marker\":{\"colorbar\":{\"outlinewidth\":0,\"ticks\":\"\"}}}],\"carpet\":[{\"aaxis\":{\"endlinecolor\":\"#A2B1C6\",\"gridcolor\":\"#506784\",\"linecolor\":\"#506784\",\"minorgridcolor\":\"#506784\",\"startlinecolor\":\"#A2B1C6\"},\"baxis\":{\"endlinecolor\":\"#A2B1C6\",\"gridcolor\":\"#506784\",\"linecolor\":\"#506784\",\"minorgridcolor\":\"#506784\",\"startlinecolor\":\"#A2B1C6\"},\"type\":\"carpet\"}],\"table\":[{\"cells\":{\"fill\":{\"color\":\"#506784\"},\"line\":{\"color\":\"rgb(17,17,17)\"}},\"header\":{\"fill\":{\"color\":\"#2a3f5f\"},\"line\":{\"color\":\"rgb(17,17,17)\"}},\"type\":\"table\"}],\"barpolar\":[{\"marker\":{\"line\":{\"color\":\"rgb(17,17,17)\",\"width\":0.5},\"pattern\":{\"fillmode\":\"overlay\",\"size\":10,\"solidity\":0.2}},\"type\":\"barpolar\"}],\"pie\":[{\"automargin\":true,\"type\":\"pie\"}]},\"layout\":{\"autotypenumbers\":\"strict\",\"colorway\":[\"#636efa\",\"#EF553B\",\"#00cc96\",\"#ab63fa\",\"#FFA15A\",\"#19d3f3\",\"#FF6692\",\"#B6E880\",\"#FF97FF\",\"#FECB52\"],\"font\":{\"color\":\"#f2f5fa\"},\"hovermode\":\"closest\",\"hoverlabel\":{\"align\":\"left\"},\"paper_bgcolor\":\"rgb(17,17,17)\",\"plot_bgcolor\":\"rgb(17,17,17)\",\"polar\":{\"bgcolor\":\"rgb(17,17,17)\",\"angularaxis\":{\"gridcolor\":\"#506784\",\"linecolor\":\"#506784\",\"ticks\":\"\"},\"radialaxis\":{\"gridcolor\":\"#506784\",\"linecolor\":\"#506784\",\"ticks\":\"\"}},\"ternary\":{\"bgcolor\":\"rgb(17,17,17)\",\"aaxis\":{\"gridcolor\":\"#506784\",\"linecolor\":\"#506784\",\"ticks\":\"\"},\"baxis\":{\"gridcolor\":\"#506784\",\"linecolor\":\"#506784\",\"ticks\":\"\"},\"caxis\":{\"gridcolor\":\"#506784\",\"linecolor\":\"#506784\",\"ticks\":\"\"}},\"coloraxis\":{\"colorbar\":{\"outlinewidth\":0,\"ticks\":\"\"}},\"colorscale\":{\"sequential\":[[0.0,\"#0d0887\"],[0.1111111111111111,\"#46039f\"],[0.2222222222222222,\"#7201a8\"],[0.3333333333333333,\"#9c179e\"],[0.4444444444444444,\"#bd3786\"],[0.5555555555555556,\"#d8576b\"],[0.6666666666666666,\"#ed7953\"],[0.7777777777777778,\"#fb9f3a\"],[0.8888888888888888,\"#fdca26\"],[1.0,\"#f0f921\"]],\"sequentialminus\":[[0.0,\"#0d0887\"],[0.1111111111111111,\"#46039f\"],[0.2222222222222222,\"#7201a8\"],[0.3333333333333333,\"#9c179e\"],[0.4444444444444444,\"#bd3786\"],[0.5555555555555556,\"#d8576b\"],[0.6666666666666666,\"#ed7953\"],[0.7777777777777778,\"#fb9f3a\"],[0.8888888888888888,\"#fdca26\"],[1.0,\"#f0f921\"]],\"diverging\":[[0,\"#8e0152\"],[0.1,\"#c51b7d\"],[0.2,\"#de77ae\"],[0.3,\"#f1b6da\"],[0.4,\"#fde0ef\"],[0.5,\"#f7f7f7\"],[0.6,\"#e6f5d0\"],[0.7,\"#b8e186\"],[0.8,\"#7fbc41\"],[0.9,\"#4d9221\"],[1,\"#276419\"]]},\"xaxis\":{\"gridcolor\":\"#283442\",\"linecolor\":\"#506784\",\"ticks\":\"\",\"title\":{\"standoff\":15},\"zerolinecolor\":\"#283442\",\"automargin\":true,\"zerolinewidth\":2},\"yaxis\":{\"gridcolor\":\"#283442\",\"linecolor\":\"#506784\",\"ticks\":\"\",\"title\":{\"standoff\":15},\"zerolinecolor\":\"#283442\",\"automargin\":true,\"zerolinewidth\":2},\"scene\":{\"xaxis\":{\"backgroundcolor\":\"rgb(17,17,17)\",\"gridcolor\":\"#506784\",\"linecolor\":\"#506784\",\"showbackground\":true,\"ticks\":\"\",\"zerolinecolor\":\"#C8D4E3\",\"gridwidth\":2},\"yaxis\":{\"backgroundcolor\":\"rgb(17,17,17)\",\"gridcolor\":\"#506784\",\"linecolor\":\"#506784\",\"showbackground\":true,\"ticks\":\"\",\"zerolinecolor\":\"#C8D4E3\",\"gridwidth\":2},\"zaxis\":{\"backgroundcolor\":\"rgb(17,17,17)\",\"gridcolor\":\"#506784\",\"linecolor\":\"#506784\",\"showbackground\":true,\"ticks\":\"\",\"zerolinecolor\":\"#C8D4E3\",\"gridwidth\":2}},\"shapedefaults\":{\"line\":{\"color\":\"#f2f5fa\"}},\"annotationdefaults\":{\"arrowcolor\":\"#f2f5fa\",\"arrowhead\":0,\"arrowwidth\":1},\"geo\":{\"bgcolor\":\"rgb(17,17,17)\",\"landcolor\":\"rgb(17,17,17)\",\"subunitcolor\":\"#506784\",\"showland\":true,\"showlakes\":true,\"lakecolor\":\"rgb(17,17,17)\"},\"title\":{\"x\":0.05},\"updatemenudefaults\":{\"bgcolor\":\"#506784\",\"borderwidth\":0},\"sliderdefaults\":{\"bgcolor\":\"#C8D4E3\",\"borderwidth\":1,\"bordercolor\":\"rgb(17,17,17)\",\"tickwidth\":0},\"mapbox\":{\"style\":\"dark\"}}},\"barmode\":\"group\",\"title\":{\"text\":\"Accuracy, F1 Score and ROC AUC Score for each model and vectorizer method (with train and test data vectorized by train reference answer)\"}},                        {\"responsive\": true}                    ).then(function(){\n                            \nvar gd = document.getElementById('d94a1cc1-bec4-4333-af09-cd219196ab63');\nvar x = new MutationObserver(function (mutations, observer) {{\n        var display = window.getComputedStyle(gd).display;\n        if (!display || display === 'none') {{\n            console.log([gd, 'removed!']);\n            Plotly.purge(gd);\n            observer.disconnect();\n        }}\n}});\n\n// Listen for the removal of the full notebook cells\nvar notebookContainer = gd.closest('#notebook-container');\nif (notebookContainer) {{\n    x.observe(notebookContainer, {childList: true});\n}}\n\n// Listen for the clearing of the current output cell\nvar outputEl = gd.closest('.output');\nif (outputEl) {{\n    x.observe(outputEl, {childList: true});\n}}\n\n                        })                };                });            </script>        </div>"
     },
     "metadata": {},
     "output_type": "display_data"
    }
   ],
   "source": [
    "# plot all results (accuracy, f1, roc_auc) with a horizontal bar chart in plotly\n",
    "\n",
    "import plotly.graph_objects as go\n",
    "\n",
    "results_df = results_df.sort_values(by=['accuracy'], ascending=False)\n",
    "title = f'Accuracy, F1 Score and ROC AUC Score for each model and vectorizer method (with train and test data vectorized by {\"train reference answer\" if VECTORIZER_BY_REFERENCE else \"train answer\"})'\n",
    "fig = go.Figure(data=[\n",
    "    go.Bar(name='Accuracy', x=results_df['accuracy'], y=results_df.index, orientation='h'),\n",
    "    go.Bar(name='F1 Score', x=results_df['f1_score'], y=results_df.index, orientation='h'),\n",
    "    go.Bar(name='ROC AUC', x=results_df['roc_auc_score'], y=results_df.index, orientation='h')\n",
    "])\n",
    "fig.update_layout(barmode='group', title=title)\n",
    "fig.show()\n"
   ],
   "metadata": {
    "collapsed": false,
    "pycharm": {
     "name": "#%%\n"
    }
   }
  }
 ],
 "metadata": {
  "kernelspec": {
   "display_name": "Python 3",
   "language": "python",
   "name": "python3"
  },
  "language_info": {
   "codemirror_mode": {
    "name": "ipython",
    "version": 3
   },
   "file_extension": ".py",
   "mimetype": "text/x-python",
   "name": "python",
   "nbconvert_exporter": "python",
   "pygments_lexer": "ipython3",
   "version": "3.7.2"
  }
 },
 "nbformat": 4,
 "nbformat_minor": 2
}